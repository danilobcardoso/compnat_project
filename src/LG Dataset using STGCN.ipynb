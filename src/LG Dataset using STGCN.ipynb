{
 "cells": [
  {
   "cell_type": "code",
   "execution_count": 1,
   "metadata": {},
   "outputs": [],
   "source": [
    "from loader.lg import LGLoader\n",
    "from processing.feature import ScaleNormalization\n",
    "from processing.partition import get_adjacency_by_group, get_adjacency_by_distance\n",
    "from sample.util import generate_n_action_sequence, filter_by_metadata, list_values_by_field_name, merge_actions\n",
    "\n",
    "from dataset.pose_sequence import PoseSequenceDataset\n",
    "from dataset.transform import SplitFramesAndLabels, UnfoldFeatures, ToSTGcn\n",
    "\n",
    "from nn.layers import ST_GCN"
   ]
  },
  {
   "cell_type": "code",
   "execution_count": 2,
   "metadata": {},
   "outputs": [],
   "source": [
    "import torch\n",
    "from torch.utils.data import Dataset, DataLoader\n",
    "from torchvision import transforms, utils\n",
    "\n",
    "import matplotlib\n",
    "from matplotlib import pyplot as plt\n",
    "import matplotlib.animation as animation\n",
    "from matplotlib.animation import FuncAnimation\n",
    "\n",
    "from IPython.display import HTML\n",
    "from IPython.display import display\n",
    "\n",
    "import numpy as np\n",
    "from scipy.spatial.transform import Rotation as R\n",
    "from scipy import stats\n",
    "\n",
    "from math import pi\n",
    "from numpy import inf\n",
    "\n",
    "import imageio\n",
    "\n",
    "import sklearn"
   ]
  },
  {
   "cell_type": "code",
   "execution_count": 6,
   "metadata": {},
   "outputs": [],
   "source": [
    "loader = LGLoader('../datasets/lg_activitydetection/dataset_csv/body_inertial/')\n",
    "data, labels = loader.load();\n"
   ]
  },
  {
   "cell_type": "code",
   "execution_count": 7,
   "metadata": {},
   "outputs": [
    {
     "data": {
      "text/plain": [
       "90"
      ]
     },
     "execution_count": 7,
     "metadata": {},
     "output_type": "execute_result"
    }
   ],
   "source": [
    "len(out[0])"
   ]
  },
  {
   "cell_type": "code",
   "execution_count": 13,
   "metadata": {},
   "outputs": [
    {
     "data": {
      "text/plain": [
       "(25, 3)"
      ]
     },
     "execution_count": 13,
     "metadata": {},
     "output_type": "execute_result"
    }
   ],
   "source": [
    "data[0][0].shape"
   ]
  },
  {
   "cell_type": "code",
   "execution_count": 14,
   "metadata": {},
   "outputs": [
    {
     "data": {
      "text/plain": [
       "array([[-1.39708e-01, -2.18490e-02,  2.44501e+00],\n",
       "       [-1.39617e-01,  3.19701e-01,  2.44959e+00],\n",
       "       [-1.37922e-01,  6.49613e-01,  2.43790e+00],\n",
       "       [-1.06769e-01,  7.87971e-01,  2.40908e+00],\n",
       "       [-3.19954e-01,  5.02445e-01,  2.43750e+00],\n",
       "       [-3.85247e-01,  2.42078e-01,  2.49535e+00],\n",
       "       [-4.09983e-01,  2.36400e-03,  2.40155e+00],\n",
       "       [-4.02346e-01, -4.46780e-02,  2.37632e+00],\n",
       "       [ 3.13210e-02,  4.97894e-01,  2.46364e+00],\n",
       "       [ 9.40620e-02,  2.14925e-01,  2.50606e+00],\n",
       "       [ 1.33796e-01, -2.08870e-02,  2.45649e+00],\n",
       "       [ 1.17861e-01, -7.31720e-02,  2.41433e+00],\n",
       "       [-2.14666e-01, -2.15340e-02,  2.40114e+00],\n",
       "       [-1.86945e-01, -5.05987e-01,  2.45072e+00],\n",
       "       [-2.94914e-01, -8.43231e-01,  2.51159e+00],\n",
       "       [-2.16868e-01, -8.37729e-01,  2.35780e+00],\n",
       "       [-6.03880e-02, -2.14760e-02,  2.41280e+00],\n",
       "       [-6.31640e-02, -4.44120e-01,  2.43063e+00],\n",
       "       [-6.29590e-02, -8.06962e-01,  2.41417e+00],\n",
       "       [-1.51950e-02, -8.71183e-01,  2.31256e+00],\n",
       "       [-1.37950e-01,  5.68295e-01,  2.44148e+00],\n",
       "       [-4.01683e-01, -1.24898e-01,  2.37755e+00],\n",
       "       [-4.28027e-01, -4.36260e-02,  2.36758e+00],\n",
       "       [ 1.16879e-01, -1.45664e-01,  2.42336e+00],\n",
       "       [ 1.29101e-01, -8.63610e-02,  2.37660e+00]])"
      ]
     },
     "execution_count": 14,
     "metadata": {},
     "output_type": "execute_result"
    }
   ],
   "source": [
    "data[0][0]"
   ]
  },
  {
   "cell_type": "code",
   "execution_count": null,
   "metadata": {},
   "outputs": [],
   "source": []
  }
 ],
 "metadata": {
  "kernelspec": {
   "display_name": "Python 3",
   "language": "python",
   "name": "python3"
  },
  "language_info": {
   "codemirror_mode": {
    "name": "ipython",
    "version": 3
   },
   "file_extension": ".py",
   "mimetype": "text/x-python",
   "name": "python",
   "nbconvert_exporter": "python",
   "pygments_lexer": "ipython3",
   "version": "3.7.4"
  }
 },
 "nbformat": 4,
 "nbformat_minor": 2
}
