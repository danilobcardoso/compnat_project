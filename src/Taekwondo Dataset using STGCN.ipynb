{
 "cells": [
  {
   "cell_type": "code",
   "execution_count": 1,
   "metadata": {},
   "outputs": [],
   "source": [
    "from loader.taekwondo import TaekwondoLoader\n",
    "from processing.feature import ScaleNormalization\n",
    "from processing.partition import get_adjacency_by_group, get_adjacency_by_distance\n",
    "from sample.util import generate_n_action_sequence, filter_by_metadata, list_values_by_field_name, merge_actions\n",
    "\n",
    "from dataset.pose_sequence import PoseSequenceDataset\n",
    "from dataset.transform import SplitFramesAndLabels, UnfoldFeatures, ToSTGcn\n",
    "\n",
    "from nn.layers import ST_GCN"
   ]
  },
  {
   "cell_type": "code",
   "execution_count": 240,
   "metadata": {},
   "outputs": [],
   "source": [
    "import torch\n",
    "from torch.utils.data import Dataset, DataLoader\n",
    "from torchvision import transforms, utils\n",
    "import torch.nn.functional as F\n",
    "\n",
    "import matplotlib\n",
    "from matplotlib import pyplot as plt\n",
    "import matplotlib.animation as animation\n",
    "from matplotlib.animation import FuncAnimation\n",
    "\n",
    "from IPython.display import HTML\n",
    "from IPython.display import display\n",
    "\n",
    "import numpy as np\n",
    "from scipy.spatial.transform import Rotation as R\n",
    "from scipy import stats\n",
    "\n",
    "from math import pi\n",
    "from numpy import inf\n",
    "\n",
    "import imageio\n",
    "\n",
    "import sklearn\n",
    "from copy import deepcopy"
   ]
  },
  {
   "cell_type": "code",
   "execution_count": 3,
   "metadata": {},
   "outputs": [],
   "source": [
    "device = torch.device('cuda' if torch.cuda.is_available() else 'cpu')\n",
    "num_node = 16\n",
    "kernel_strategy = 'group' # Opções: 'group' / 'distance'\n",
    "batch_size = 64\n",
    "new_samples_per_athlete = 1000\n",
    "unfold = False"
   ]
  },
  {
   "cell_type": "code",
   "execution_count": 4,
   "metadata": {},
   "outputs": [],
   "source": [
    "\n",
    "partition_groups = {\n",
    "            2: {'limb': 0, 'distance': 2},\n",
    "            15: {'limb': 0, 'distance': 2},\n",
    "            3: {'limb': 0, 'distance': 0},\n",
    "            6: {'limb': 3, 'distance': 0},\n",
    "            0: {'limb': 1, 'distance': 1},\n",
    "            7: {'limb': 1, 'distance': 2},\n",
    "            9: {'limb': 1, 'distance': 3},\n",
    "            1: {'limb': 2, 'distance': 1},\n",
    "            8: {'limb': 2, 'distance': 2},\n",
    "            10: {'limb': 2, 'distance': 3},\n",
    "            4: {'limb': 4, 'distance': 1},\n",
    "            12: {'limb': 4, 'distance': 2},\n",
    "            14: {'limb': 4, 'distance': 3},\n",
    "            5: {'limb': 5, 'distance': 1},\n",
    "            11: {'limb': 5, 'distance': 2},\n",
    "            13: {'limb': 5, 'distance': 3}\n",
    "        }"
   ]
  },
  {
   "cell_type": "code",
   "execution_count": 6,
   "metadata": {},
   "outputs": [
    {
     "name": "stdout",
     "output_type": "stream",
     "text": [
      "{'Left Punch', 'Right Kick', 'Back Kick', 'Right Kick To The Head', 'Right Punch', 'Left Kick To The Head', 'Left Kick'}\n"
     ]
    }
   ],
   "source": [
    "loader = TaekwondoLoader('../dataset')\n",
    "actions, labels, label_idx, skeleton_model = loader.load();\n",
    "print(labels)\n",
    "# print(label_idx)\n",
    "# print(skeleton_model)\n",
    "idx_label = { idx: key for (idx, key) in enumerate(labels)}"
   ]
  },
  {
   "cell_type": "code",
   "execution_count": 7,
   "metadata": {},
   "outputs": [],
   "source": [
    "scale = ScaleNormalization()\n",
    "for action in actions:\n",
    "    scale(action)"
   ]
  },
  {
   "cell_type": "code",
   "execution_count": 8,
   "metadata": {},
   "outputs": [],
   "source": [
    "action_sequences = []\n",
    "\n",
    "for source in list_values_by_field_name(actions, 'source'):\n",
    "    same_source_actions = filter_by_metadata(actions, 'source', source)\n",
    "    merged_action = merge_actions(same_source_actions)\n",
    "    action_sequences.append(merged_action)"
   ]
  },
  {
   "cell_type": "code",
   "execution_count": 9,
   "metadata": {},
   "outputs": [],
   "source": [
    "augmented_action_sequences = []\n",
    "\n",
    "for action_sequence in action_sequences:\n",
    "    augmented_action_sequences = augmented_action_sequences + generate_n_action_sequence(action_sequence, 40)"
   ]
  },
  {
   "cell_type": "code",
   "execution_count": 10,
   "metadata": {},
   "outputs": [
    {
     "name": "stdout",
     "output_type": "stream",
     "text": [
      "Not using unfold\n"
     ]
    }
   ],
   "source": [
    "\n",
    "if  unfold:\n",
    "    print('Using unfold')\n",
    "    transform = transforms.Compose([SplitFramesAndLabels(label_idx, ['position_xyz'], max_lenght=212),\n",
    "                                    UnfoldFeatures(skeleton_model),\n",
    "                                    ToSTGcn()\n",
    "                                   ])\n",
    "else:\n",
    "    print('Not using unfold')\n",
    "    transform = transforms.Compose([SplitFramesAndLabels(label_idx, ['position_xyz'], max_lenght=212),\n",
    "                                ToSTGcn()\n",
    "                               ])\n",
    "    \n",
    "\n",
    "dataset = PoseSequenceDataset(augmented_action_sequences, transform=transform)\n",
    "input_size = dataset[0]['frames'].shape[0]"
   ]
  },
  {
   "cell_type": "code",
   "execution_count": 11,
   "metadata": {},
   "outputs": [
    {
     "data": {
      "text/plain": [
       "3"
      ]
     },
     "execution_count": 11,
     "metadata": {},
     "output_type": "execute_result"
    }
   ],
   "source": [
    "input_size"
   ]
  },
  {
   "cell_type": "code",
   "execution_count": 12,
   "metadata": {},
   "outputs": [
    {
     "name": "stderr",
     "output_type": "stream",
     "text": [
      "/mnt/hielo/projects/pesquisa/mestrado/20202-computacao-natural/projeto/src/processing/partition.py:15: RuntimeWarning: divide by zero encountered in true_divide\n",
      "  norm_coeficient = 1/norm_coeficient\n",
      "/mnt/hielo/projects/pesquisa/mestrado/20202-computacao-natural/projeto/src/processing/partition.py:42: RuntimeWarning: divide by zero encountered in true_divide\n",
      "  norm_coeficient = 1/norm_coeficient\n"
     ]
    }
   ],
   "source": [
    "partition_modes = {}\n",
    "\n",
    "group_adj, group_ks = get_adjacency_by_group(skeleton_model, partition_groups)\n",
    "partition_modes['group'] = {\n",
    "    'ks': group_ks,\n",
    "    'A': torch.from_numpy(group_adj).to(device, dtype=torch.float)\n",
    "}\n",
    "\n",
    "dist_adj, dist_ks = get_adjacency_by_distance(skeleton_model, partition_groups)\n",
    "partition_modes['distance'] = {\n",
    "    'ks': dist_ks,\n",
    "    'A': torch.from_numpy(dist_adj).to(device, dtype=torch.float) \n",
    "}\n"
   ]
  },
  {
   "cell_type": "code",
   "execution_count": 13,
   "metadata": {},
   "outputs": [],
   "source": [
    "def get_accuracy(out_tensor, labels_tensor):\n",
    "    out_np = out_tensor.detach().cpu().numpy()\n",
    "    out_np = np.array(np.argmax(out_np, axis=1))\n",
    "\n",
    "    labels_np = np.array(labels_tensor.cpu().numpy())\n",
    "    corrects = np.array(out_np == labels_np)\n",
    "\n",
    "    result = np.sum(corrects) / (out_np.shape[0] * out_np.shape[1] * out_np.shape[2])\n",
    "    return result"
   ]
  },
  {
   "cell_type": "code",
   "execution_count": 16,
   "metadata": {},
   "outputs": [
    {
     "name": "stdout",
     "output_type": "stream",
     "text": [
      "[[5, 'group', 'tree', 'relu', True, 4, 'distance', 'tree', 'elu']]\n"
     ]
    }
   ],
   "source": [
    "genome = [[\n",
    "    5,\n",
    "    'group',\n",
    "    'tree',\n",
    "    'relu',\n",
    "    True,\n",
    "    4,\n",
    "    'distance',\n",
    "    'tree',\n",
    "    'elu'\n",
    "]]\n",
    "print(genome)"
   ]
  },
  {
   "cell_type": "code",
   "execution_count": 20,
   "metadata": {},
   "outputs": [],
   "source": [
    "layer_values = [2, 4, 8, 16, 32]\n",
    "partition_values = ['distance', 'group']\n",
    "graph_form_values = ['tree']\n",
    "activation_values = ['relu', 'elu', 'tanh', 'leaky_relu']"
   ]
  },
  {
   "cell_type": "code",
   "execution_count": 17,
   "metadata": {},
   "outputs": [],
   "source": [
    "activation_functions = {\n",
    "    'relu': F.relu,\n",
    "    'elu': F.elu,\n",
    "    'tanh': F.tanh,\n",
    "    'leaky_relu': F.leaky_relu\n",
    "}"
   ]
  },
  {
   "cell_type": "code",
   "execution_count": 81,
   "metadata": {},
   "outputs": [
    {
     "data": {
      "text/plain": [
       "[32, 'group', 'tree', 'elu', True, 16, 'distance', 'tree', 'tanh']"
      ]
     },
     "execution_count": 81,
     "metadata": {},
     "output_type": "execute_result"
    }
   ],
   "source": []
  },
  {
   "cell_type": "code",
   "execution_count": 92,
   "metadata": {},
   "outputs": [
    {
     "data": {
      "text/plain": [
       "EvolutionaryNet(\n",
       "  (internal_layers): ModuleList(\n",
       "    (0): ST_GCN(\n",
       "      (conv): Conv2d(3, 30, kernel_size=(5, 1), stride=(1, 1), padding=(2, 0))\n",
       "    )\n",
       "    (1): ST_GCN(\n",
       "      (conv): Conv2d(5, 12, kernel_size=(5, 1), stride=(1, 1), padding=(2, 0))\n",
       "    )\n",
       "  )\n",
       "  (final_layer): Conv2d(4, 7, kernel_size=(1, 1), stride=(1, 1))\n",
       ")"
      ]
     },
     "execution_count": 92,
     "metadata": {},
     "output_type": "execute_result"
    }
   ],
   "source": [
    "\n",
    "def build_layer(layer_params, c_in, partition_modes, activation_functions):\n",
    "    c_out = layer_params[0]\n",
    "    partition_mode = layer_params[1]\n",
    "    model_type = layer_params[2]\n",
    "    activation = layer_params[3]\n",
    "    af = activation_functions[activation]\n",
    "    ks = partition_modes[partition_mode]['ks']\n",
    "    A = partition_modes[partition_mode]['A']\n",
    "    layer = ST_GCN(c_in, c_out, ks)\n",
    "    return layer, c_out, A, af\n",
    "\n",
    "def load_previous_state(layer, previous_state, i):\n",
    "    if previous_state:\n",
    "        bias_key = 'internal_layers.{}.conv.bias'.format(i)\n",
    "        weight_key = 'internal_layers.{}.conv.weight'.format(i)\n",
    "        ps_bias = previous_state[bias_key]\n",
    "        ps_weight = previous_state[weight_key].detach().clone()\n",
    "        layer.conv.bias.data.copy_(ps_bias)\n",
    "        layer.conv.weight.data.copy_(ps_weight)\n",
    "\n",
    "\n",
    "class EvolutionaryNet(torch.nn.Module):\n",
    "    def __init__(self, input_size, output_size, partition_modes, activation_functions, genome, previous_state=None):\n",
    "        super(EvolutionaryNet, self).__init__()\n",
    "        \n",
    "        layers = []\n",
    "        self.activation = []\n",
    "        self.adj_matrix = []\n",
    "        \n",
    "        c_in = input_size\n",
    "        i = 0\n",
    "        for g in genome:\n",
    "            layer, c_out, A, af = build_layer(g[0:4], c_in, partition_modes, activation_functions)\n",
    "            load_previous_state(layer, previous_state, i)\n",
    "            layers.append(layer)\n",
    "            self.adj_matrix.append(A)\n",
    "            self.activation.append(af)\n",
    "            c_in = c_out\n",
    "            i = i + 1\n",
    "            if g[4]:\n",
    "                layer, c_out, A, af = build_layer(g[5:9], c_in, partition_modes, activation_functions)\n",
    "                load_previous_state(layer, previous_state, i)\n",
    "                layers.append(layer)\n",
    "                self.adj_matrix.append(A)\n",
    "                self.activation.append(af)\n",
    "                c_in = c_out\n",
    "                i = i + 1\n",
    "                \n",
    "            \n",
    "        self.internal_layers = nn.ModuleList(layers)\n",
    "        self.final_layer = nn.Conv2d(c_in, output_size,\n",
    "                              kernel_size=(1, 1),\n",
    "                              padding=(0, 0),\n",
    "                              stride=(1, 1),\n",
    "                              dilation=(1, 1),\n",
    "                              bias=True)\n",
    "        \n",
    "    def forward(self, x):\n",
    "        \n",
    "        for i, l in enumerate(self.internal_layers):\n",
    "            x, A = l(x, self.adj_matrix[i])\n",
    "            x = self.activation[i](x)\n",
    "            x = F.dropout(x, training=self.training)\n",
    "        \n",
    "        x = self.final_layer(x)\n",
    "        return F.softmax(x, dim=1)\n",
    "    \n",
    "EvolutionaryNet(3, 7, partition_modes, activation_functions, genome)"
   ]
  },
  {
   "cell_type": "code",
   "execution_count": 283,
   "metadata": {},
   "outputs": [],
   "source": [
    "def generate_genome():\n",
    "    g = []\n",
    "    g.append(np.random.choice(layer_values))\n",
    "    g.append(np.random.choice(partition_values))\n",
    "    g.append(np.random.choice(graph_form_values))\n",
    "    g.append(np.random.choice(activation_values))\n",
    "    g.append(np.random.choice([True, False]))\n",
    "    g.append(np.random.choice(layer_values))\n",
    "    g.append(np.random.choice(partition_values))\n",
    "    g.append(np.random.choice(graph_form_values))\n",
    "    g.append(np.random.choice(activation_values))\n",
    "    return g\n",
    "\n",
    "def initial_population(population_size):\n",
    "    population = []\n",
    "    for i in range(population_size):\n",
    "        population.append([generate_genome()])\n",
    "    return population\n",
    "\n",
    "def evaluate_fitness(model, epochs = 5):\n",
    "    device = torch.device('cuda' if torch.cuda.is_available() else 'cpu')\n",
    "    train_idxs = [0, 2, 3, 4, 5, 6, 7, 9]\n",
    "    val_idxs = [1, 8]\n",
    "    \n",
    "    train_sources = [sources[i] for i in train_idxs]\n",
    "    validation_sources = [sources[i] for i in val_idxs]\n",
    "    train_sequences = filter_by_metadata(augmented_action_sequences, 'source', train_sources)\n",
    "    validation_sequences = filter_by_metadata(augmented_action_sequences, 'source', validation_sources)\n",
    "    train_dataset = PoseSequenceDataset(train_sequences, transform=transform)\n",
    "    validation_dataset = PoseSequenceDataset(validation_sequences, transform=transform)\n",
    "    train_dataloader = DataLoader(train_dataset, batch_size=batch_size, shuffle=True)\n",
    "    validation_dataloader = DataLoader(validation_dataset, batch_size=batch_size, shuffle=True)\n",
    "    \n",
    "    model = model.to(device)\n",
    "    optimizer = torch.optim.Adam(model.parameters(), lr=0.002)\n",
    "    model.train()\n",
    "    \n",
    "    for epoch in range(epochs):\n",
    "        for samples in train_dataloader:\n",
    "            data = samples['frames'].to(device, dtype=torch.float)\n",
    "            labels = samples['labels'].to(device, dtype=torch.long)\n",
    "            optimizer.zero_grad()\n",
    "            out = model(data)\n",
    "            loss = F.cross_entropy(out, labels)\n",
    "            loss.backward()\n",
    "            optimizer.step()\n",
    "    \n",
    "    model.eval()\n",
    "    num_samples = 0\n",
    "    accum = 0\n",
    "    for samples in validation_dataloader:\n",
    "        data = samples['frames'].to(device, dtype=torch.float)\n",
    "        labels = samples['labels'].to(device, dtype=torch.long)\n",
    "        out = model(data)\n",
    "        accum = accum + get_accuracy(out, labels) * samples['frames'].shape[0]\n",
    "        num_samples = num_samples + samples['frames'].shape[0]\n",
    "\n",
    "    validation_accuracy = accum/num_samples\n",
    "    return validation_accuracy\n",
    "\n",
    "\n",
    "def tournament_selection(tournament_size, population, fitness):\n",
    "    idx = np.random.permutation(len(population))\n",
    "    sel_idx = idx[:tournament_size]\n",
    "    # sel_fit = np.array([fitness[i] for i in sel_idx ])\n",
    "    sel_fit = fitness[sel_idx]\n",
    "    winner_idx = sel_idx[sel_fit.argmax()] \n",
    "    return deepcopy(population[winner_idx])\n",
    "\n",
    "def mutation(genome, p=0.05):\n",
    "    r = np.random.random\n",
    "    g = [None, None, None, None, None, None, None, None, None]\n",
    "    g[0] = np.random.choice(layer_values) if r()<p else genome[0]\n",
    "    g[1] = np.random.choice(partition_values) if r()<p else genome[1]\n",
    "    g[2] = np.random.choice(graph_form_values) if r()<p else genome[2]\n",
    "    g[3] = np.random.choice(activation_values) if r()<p else genome[3]\n",
    "    g[4] = np.random.choice([True, False]) if r()<p else genome[4]\n",
    "    g[5] = np.random.choice(layer_values) if r()<p else genome[5]\n",
    "    g[6] = np.random.choice(partition_values) if r()<p else genome[6]\n",
    "    g[7] = np.random.choice(graph_form_values) if r()<p else genome[7]\n",
    "    g[8] = np.random.choice(activation_values) if r()<p else genome[8]\n",
    "    return g\n",
    "\n",
    "def crossover(parent_a, parent_b):\n",
    "    child_a = [parent_a[0], parent_a[1], parent_a[2], parent_a[3], parent_b[4], parent_b[5], parent_b[6], parent_b[7], parent_b[8]]\n",
    "    child_b = [parent_b[0], parent_b[1], parent_b[2], parent_b[3], parent_a[4], parent_a[5], parent_a[6], parent_a[7], parent_a[8]]\n",
    "    return child_a, child_b\n",
    "\n",
    "def print_population(population):\n",
    "    for genome in population:\n",
    "        print(genome)\n",
    "\n",
    "\n",
    "def execute_generation(population_genomes, p_mut=0.1, p_cross=0.9, verbose=False, previous_state=None):\n",
    "    if verbose:\n",
    "        print_population(population_genomes) \n",
    "    population_fitness = []\n",
    "    trained_models = []\n",
    "\n",
    "    # Calculate fitness\n",
    "    if verbose:\n",
    "        print('Calculando fitness')\n",
    "    for genome in population_genomes:\n",
    "        model = EvolutionaryNet(3, 7, partition_modes, activation_functions, genome, previous_state=previous_state)\n",
    "        fitness = evaluate_fitness(model)\n",
    "        population_fitness.append(fitness)\n",
    "        trained_models.append(model)\n",
    "        \n",
    "    population_fitness = np.array(population_fitness)\n",
    "    best_genome = population_genomes[population_fitness.argmax()]\n",
    "    best_model = trained_models[population_fitness.argmax()]\n",
    "\n",
    "    # Select best individuals\n",
    "    if verbose:\n",
    "        print('Selecionando melhores indivíduos')\n",
    "    selected_genomes = []\n",
    "    for i in range(population_size):\n",
    "        selected_genomes.append(tournament_selection(tournament_size, population_genomes, population_fitness))\n",
    "\n",
    "    if verbose:\n",
    "        print_population(selected_genomes)\n",
    "\n",
    "    #Apply operators\n",
    "    #Mutation\n",
    "    if verbose:\n",
    "        print('Aplicando operadores genéticos')\n",
    "        print('Mutação')\n",
    "    np.random.shuffle(selected_genomes)\n",
    "    for i in range(population_size):\n",
    "        selected_genomes[i][-1] = mutation(selected_genomes[i][-1], p=p_mut)\n",
    "\n",
    "    if verbose:\n",
    "        print_population(selected_genomes)\n",
    "    \n",
    "    if verbose:\n",
    "        print('Cruzamento')\n",
    "    for i in range(0, population_size, 2):\n",
    "        if np.random.random() < p_cross:\n",
    "            child_a, child_b = crossover(selected_genomes[i][-1], selected_genomes[i+1][-1])\n",
    "            selected_genomes[i][-1] = deepcopy(child_a)\n",
    "            selected_genomes[i+1][-1] = deepcopy(child_b)\n",
    "\n",
    "    if verbose:\n",
    "        print_population(selected_genomes)\n",
    "        print('\\nBest fitness: {}\\n'.format(population_fitness.max()))\n",
    "    return selected_genomes, best_genome, best_model, max(population_fitness)\n",
    "\n",
    "def init_next_phase_population(selected_genome, population_size):\n",
    "    population = []\n",
    "    for i in range(population_size):\n",
    "        new_genome = []\n",
    "        new_genome.extend(selected_genome)\n",
    "        new_genome.append(generate_genome())\n",
    "        \n",
    "        population.append(new_genome)\n",
    "    return population\n",
    "\n"
   ]
  },
  {
   "cell_type": "code",
   "execution_count": 292,
   "metadata": {},
   "outputs": [
    {
     "name": "stdout",
     "output_type": "stream",
     "text": [
      "Carregando camada = 0\n",
      "Carregando camada = 0\n",
      "Carregando camada = 1\n",
      "Carregando camada = 0\n",
      "Carregando camada = 1\n",
      "Carregando camada = 0\n",
      "Carregando camada = 1\n",
      "Carregando camada = 0\n",
      "Carregando camada = 1\n",
      "0.3200176886792453\n",
      "Carregando camada = 0\n",
      "Carregando camada = 0\n",
      "Carregando camada = 1\n",
      "Carregando camada = 0\n",
      "Carregando camada = 1\n",
      "Carregando camada = 0\n",
      "Carregando camada = 1\n",
      "Carregando camada = 0\n",
      "Carregando camada = 1\n",
      "0.2605321344339623\n"
     ]
    },
    {
     "data": {
      "text/plain": [
       "[<matplotlib.lines.Line2D at 0x7f3f8aeec940>]"
      ]
     },
     "execution_count": 292,
     "metadata": {},
     "output_type": "execute_result"
    },
    {
     "data": {
      "image/png": "[encoded data removed]",
      "text/plain": [
       "<Figure size 432x288 with 1 Axes>"
      ]
     },
     "metadata": {
      "needs_background": "light"
     },
     "output_type": "display_data"
    }
   ],
   "source": [
    "population_size = 4\n",
    "tournament_size = 2\n",
    "num_generations = 2\n",
    "    \n",
    "next_generation = initial_population(population_size)\n",
    "bests_fitness = []\n",
    "bests_genomes = []\n",
    "bests_models = []\n",
    "for gen in range(num_generations):\n",
    "    next_generation, best_genome, best_model, best_fitness = execute_generation(next_generation, verbose=False)\n",
    "    print(best_fitness)\n",
    "    bests_fitness.append(best_fitness)\n",
    "    bests_genomes.append(best_genome)\n",
    "    bests_models.append(best_model)\n",
    "    \n",
    "\n",
    "plt.plot(bests_fitness)\n",
    "    "
   ]
  },
  {
   "cell_type": "code",
   "execution_count": 306,
   "metadata": {},
   "outputs": [],
   "source": [
    "def load_previous_state(layer, previous_state, i):\n",
    "    bias_key = 'internal_layers.{}.conv.bias'.format(i)\n",
    "    weight_key = 'internal_layers.{}.conv.weight'.format(i)\n",
    "    if previous_state:\n",
    "        if bias_key in previous_state:\n",
    "            ps_bias = previous_state[bias_key]\n",
    "            layer.conv.bias.data.copy_(ps_bias)\n",
    "        if weight_key in previous_state:\n",
    "            ps_weight = previous_state[weight_key].detach().clone()\n",
    "            layer.conv.weight.data.copy_(ps_weight)"
   ]
  },
  {
   "cell_type": "code",
   "execution_count": 302,
   "metadata": {},
   "outputs": [],
   "source": [
    "bests_fitness = np.array(bests_fitness)\n",
    "best_phase_fiteness = bests_fitness[bests_fitness.argmax()] \n",
    "best_phase_genome = bests_genomes[bests_fitness.argmax()]\n",
    "best_phase_model = bests_models[best_fitness.argmax()]"
   ]
  },
  {
   "cell_type": "code",
   "execution_count": 303,
   "metadata": {},
   "outputs": [
    {
     "name": "stdout",
     "output_type": "stream",
     "text": [
      "[[16, 'distance', 'tree', 'tanh', True, 16, 'group', 'tree', 'tanh'], [16, 'distance', 'tree', 'elu', True, 8, 'distance', 'tree', 'leaky_relu']]\n",
      "EvolutionaryNet(\n",
      "  (internal_layers): ModuleList(\n",
      "    (0): ST_GCN(\n",
      "      (conv): Conv2d(3, 48, kernel_size=(5, 1), stride=(1, 1), padding=(2, 0))\n",
      "    )\n",
      "    (1): ST_GCN(\n",
      "      (conv): Conv2d(16, 96, kernel_size=(5, 1), stride=(1, 1), padding=(2, 0))\n",
      "    )\n",
      "    (2): ST_GCN(\n",
      "      (conv): Conv2d(16, 48, kernel_size=(5, 1), stride=(1, 1), padding=(2, 0))\n",
      "    )\n",
      "    (3): ST_GCN(\n",
      "      (conv): Conv2d(16, 24, kernel_size=(5, 1), stride=(1, 1), padding=(2, 0))\n",
      "    )\n",
      "  )\n",
      "  (final_layer): Conv2d(8, 7, kernel_size=(1, 1), stride=(1, 1))\n",
      ")\n"
     ]
    }
   ],
   "source": [
    "print(best_phase_genome)\n",
    "print(best_phase_model)"
   ]
  },
  {
   "cell_type": "code",
   "execution_count": 304,
   "metadata": {},
   "outputs": [
    {
     "name": "stdout",
     "output_type": "stream",
     "text": [
      "[[16, 'distance', 'tree', 'tanh', True, 16, 'group', 'tree', 'tanh'], [16, 'distance', 'tree', 'elu', True, 8, 'distance', 'tree', 'leaky_relu'], [4, 'distance', 'tree', 'tanh', True, 16, 'group', 'tree', 'elu']]\n",
      "[[16, 'distance', 'tree', 'tanh', True, 16, 'group', 'tree', 'tanh'], [16, 'distance', 'tree', 'elu', True, 8, 'distance', 'tree', 'leaky_relu'], [16, 'group', 'tree', 'elu', True, 4, 'distance', 'tree', 'relu']]\n",
      "[[16, 'distance', 'tree', 'tanh', True, 16, 'group', 'tree', 'tanh'], [16, 'distance', 'tree', 'elu', True, 8, 'distance', 'tree', 'leaky_relu'], [16, 'group', 'tree', 'leaky_relu', True, 8, 'distance', 'tree', 'relu']]\n",
      "[[16, 'distance', 'tree', 'tanh', True, 16, 'group', 'tree', 'tanh'], [16, 'distance', 'tree', 'elu', True, 8, 'distance', 'tree', 'leaky_relu'], [8, 'distance', 'tree', 'relu', True, 16, 'distance', 'tree', 'relu']]\n"
     ]
    }
   ],
   "source": [
    "population_size = 4\n",
    "next_phase_population = init_next_phase_population( best_phase_genome , population_size)\n",
    "print_population(next_phase_population)\n"
   ]
  },
  {
   "cell_type": "code",
   "execution_count": 305,
   "metadata": {},
   "outputs": [
    {
     "name": "stdout",
     "output_type": "stream",
     "text": [
      "Carregando camada = 0\n",
      "Carregando camada = 1\n",
      "Carregando camada = 2\n",
      "Carregando camada = 3\n",
      "Carregando camada = 4\n",
      "Carregando camada = 5\n",
      "Carregando camada = 0\n",
      "Carregando camada = 1\n",
      "Carregando camada = 2\n",
      "Carregando camada = 3\n",
      "Carregando camada = 4\n",
      "Carregando camada = 5\n",
      "Carregando camada = 0\n",
      "Carregando camada = 1\n",
      "Carregando camada = 2\n",
      "Carregando camada = 3\n",
      "Carregando camada = 4\n",
      "Carregando camada = 5\n",
      "Carregando camada = 0\n",
      "Carregando camada = 1\n",
      "Carregando camada = 2\n",
      "Carregando camada = 3\n",
      "Carregando camada = 4\n",
      "Carregando camada = 5\n",
      "0.5519236438679245\n",
      "Carregando camada = 0\n",
      "Carregando camada = 1\n",
      "Carregando camada = 2\n",
      "Carregando camada = 3\n",
      "Carregando camada = 4\n",
      "Carregando camada = 5\n",
      "Carregando camada = 0\n",
      "Carregando camada = 1\n",
      "Carregando camada = 2\n",
      "Carregando camada = 3\n",
      "Carregando camada = 4\n",
      "Carregando camada = 5\n",
      "Carregando camada = 0\n",
      "Carregando camada = 1\n",
      "Carregando camada = 2\n",
      "Carregando camada = 3\n",
      "Carregando camada = 4\n",
      "Carregando camada = 5\n",
      "Carregando camada = 0\n",
      "Carregando camada = 1\n",
      "Carregando camada = 2\n",
      "Carregando camada = 3\n",
      "Carregando camada = 4\n",
      "Carregando camada = 5\n",
      "0.45288178066037743\n"
     ]
    },
    {
     "data": {
      "text/plain": [
       "[<matplotlib.lines.Line2D at 0x7f3f8b1e0550>]"
      ]
     },
     "execution_count": 305,
     "metadata": {},
     "output_type": "execute_result"
    },
    {
     "data": {
      "image/png": "[encoded data removed]",
      "text/plain": [
       "<Figure size 432x288 with 1 Axes>"
      ]
     },
     "metadata": {
      "needs_background": "light"
     },
     "output_type": "display_data"
    }
   ],
   "source": [
    "\n",
    "bests_fitness = []\n",
    "bests_genomes = []\n",
    "bests_models = []\n",
    "next_generation = deepcopy(next_phase_population)\n",
    "for gen in range(num_generations):\n",
    "    next_generation, best_genome, best_model, best_fitness = execute_generation(\n",
    "            next_generation,\n",
    "            previous_state=best_phase_model.state_dict(),\n",
    "            verbose=False)\n",
    "    print(best_fitness)\n",
    "    bests_fitness.append(best_fitness)\n",
    "    bests_genomes.append(best_genome)\n",
    "    bests_models.append(best_model)\n",
    "    \n",
    "\n",
    "plt.plot(bests_fitness)\n"
   ]
  },
  {
   "cell_type": "code",
   "execution_count": 328,
   "metadata": {},
   "outputs": [
    {
     "name": "stdout",
     "output_type": "stream",
     "text": [
      "Phase 0\n",
      "0.2845482016509434\n",
      "0.29191848466981135\n",
      "0.39077977594339625\n",
      "0.2947155070754717\n",
      "0.32211084905660375\n",
      "Phase 1\n",
      "0.5058888561320755\n",
      "0.5508217865566036\n",
      "0.5561173349056604\n",
      "0.5561468160377359\n",
      "0.5635465801886792\n",
      "Phase 2\n",
      "0.6150943396226415\n",
      "0.6279591686320755\n",
      "0.6500036851415094\n",
      "0.6495061910377359\n",
      "0.6282982016509434\n",
      "Phase 3\n",
      "0.6794848172169811\n",
      "0.7001363502358491\n",
      "0.6956736438679245\n",
      "0.693801591981132\n",
      "0.7009655070754717\n"
     ]
    }
   ],
   "source": [
    "population_size = 10\n",
    "tournament_size = 2\n",
    "num_generations = 5\n",
    "num_phase = 4\n",
    "    \n",
    "next_generation = initial_population(population_size)\n",
    "previous_state = None\n",
    "\n",
    "overall_fitness = []\n",
    "overall_genomes = []\n",
    "overall_models = []\n",
    "\n",
    "for phase in range(num_phase):\n",
    "    print('Phase {}'.format(phase))\n",
    "    bests_fitness = []\n",
    "    bests_genomes = []\n",
    "    bests_models = []\n",
    "    for gen in range(num_generations):\n",
    "        next_generation, best_genome, best_model, best_fitness = execute_generation(\n",
    "            next_generation,\n",
    "            previous_state=previous_state,\n",
    "            verbose=False)\n",
    "        bests_fitness.append(best_fitness)\n",
    "        bests_genomes.append(best_genome)\n",
    "        bests_models.append(best_model)\n",
    "        print(best_fitness)\n",
    "        \n",
    "    bests_fitness = np.array(bests_fitness)\n",
    "    best_phase_fitness = bests_fitness[bests_fitness.argmax()] \n",
    "    best_phase_genome = bests_genomes[bests_fitness.argmax()]\n",
    "    best_phase_model = bests_models[bests_fitness.argmax()]\n",
    "    \n",
    "    overall_fitness.extend(bests_fitness)\n",
    "    overall_genomes.extend(bests_genomes)\n",
    "    overall_models.extend(bests_models)\n",
    "    \n",
    "    previous_state=best_phase_model.state_dict()\n",
    "    next_phase_population = init_next_phase_population( best_phase_genome , population_size)\n",
    "    next_generation = deepcopy(next_phase_population)"
   ]
  },
  {
   "cell_type": "code",
   "execution_count": 325,
   "metadata": {},
   "outputs": [
    {
     "data": {
      "text/plain": [
       "EvolutionaryNet(\n",
       "  (internal_layers): ModuleList(\n",
       "    (0): ST_GCN(\n",
       "      (conv): Conv2d(3, 192, kernel_size=(5, 1), stride=(1, 1), padding=(2, 0))\n",
       "    )\n",
       "    (1): ST_GCN(\n",
       "      (conv): Conv2d(32, 96, kernel_size=(5, 1), stride=(1, 1), padding=(2, 0))\n",
       "    )\n",
       "    (2): ST_GCN(\n",
       "      (conv): Conv2d(16, 6, kernel_size=(5, 1), stride=(1, 1), padding=(2, 0))\n",
       "    )\n",
       "  )\n",
       "  (final_layer): Conv2d(2, 7, kernel_size=(1, 1), stride=(1, 1))\n",
       ")"
      ]
     },
     "execution_count": 325,
     "metadata": {},
     "output_type": "execute_result"
    }
   ],
   "source": [
    "EvolutionaryNet(3, 7, partition_modes, activation_functions, next_generation[0])"
   ]
  },
  {
   "cell_type": "code",
   "execution_count": 326,
   "metadata": {},
   "outputs": [
    {
     "data": {
      "text/plain": [
       "EvolutionaryNet(\n",
       "  (internal_layers): ModuleList(\n",
       "    (0): ST_GCN(\n",
       "      (conv): Conv2d(3, 96, kernel_size=(5, 1), stride=(1, 1), padding=(2, 0))\n",
       "    )\n",
       "    (1): ST_GCN(\n",
       "      (conv): Conv2d(32, 96, kernel_size=(5, 1), stride=(1, 1), padding=(2, 0))\n",
       "    )\n",
       "  )\n",
       "  (final_layer): Conv2d(16, 7, kernel_size=(1, 1), stride=(1, 1))\n",
       ")"
      ]
     },
     "execution_count": 326,
     "metadata": {},
     "output_type": "execute_result"
    }
   ],
   "source": [
    "best_phase_model"
   ]
  },
  {
   "cell_type": "code",
   "execution_count": 324,
   "metadata": {},
   "outputs": [
    {
     "data": {
      "text/plain": [
       "[[[32, 'group', 'tree', 'leaky_relu', True, 16, 'group', 'tree', 'tanh'],\n",
       "  [2, 'distance', 'tree', 'tanh', False, 4, 'group', 'tree', 'leaky_relu']],\n",
       " [[32, 'group', 'tree', 'leaky_relu', True, 16, 'group', 'tree', 'tanh'],\n",
       "  [32, 'group', 'tree', 'relu', False, 32, 'distance', 'tree', 'relu']],\n",
       " [[32, 'group', 'tree', 'leaky_relu', True, 16, 'group', 'tree', 'tanh'],\n",
       "  [32, 'distance', 'tree', 'elu', False, 2, 'group', 'tree', 'leaky_relu']],\n",
       " [[32, 'group', 'tree', 'leaky_relu', True, 16, 'group', 'tree', 'tanh'],\n",
       "  [2, 'distance', 'tree', 'elu', False, 8, 'group', 'tree', 'elu']]]"
      ]
     },
     "execution_count": 324,
     "metadata": {},
     "output_type": "execute_result"
    }
   ],
   "source": []
  },
  {
   "cell_type": "code",
   "execution_count": 320,
   "metadata": {},
   "outputs": [
    {
     "data": {
      "text/plain": [
       "EvolutionaryNet(\n",
       "  (internal_layers): ModuleList(\n",
       "    (0): ST_GCN(\n",
       "      (conv): Conv2d(3, 96, kernel_size=(5, 1), stride=(1, 1), padding=(2, 0))\n",
       "    )\n",
       "    (1): ST_GCN(\n",
       "      (conv): Conv2d(32, 96, kernel_size=(5, 1), stride=(1, 1), padding=(2, 0))\n",
       "    )\n",
       "  )\n",
       "  (final_layer): Conv2d(16, 7, kernel_size=(1, 1), stride=(1, 1))\n",
       ")"
      ]
     },
     "execution_count": 320,
     "metadata": {},
     "output_type": "execute_result"
    }
   ],
   "source": [
    "best_phase_model"
   ]
  },
  {
   "cell_type": "code",
   "execution_count": 322,
   "metadata": {},
   "outputs": [
    {
     "data": {
      "text/plain": [
       "[[32, 'group', 'tree', 'leaky_relu', True, 16, 'group', 'tree', 'tanh']]"
      ]
     },
     "execution_count": 322,
     "metadata": {},
     "output_type": "execute_result"
    }
   ],
   "source": [
    "best_phase_genome"
   ]
  },
  {
   "cell_type": "code",
   "execution_count": 118,
   "metadata": {},
   "outputs": [
    {
     "name": "stdout",
     "output_type": "stream",
     "text": [
      "cpu\n",
      "[0 2 3 4 5 6 7 9]\n",
      "[1 8]\n",
      "Epoca 0\n",
      "Epoca 1\n"
     ]
    },
    {
     "ename": "KeyboardInterrupt",
     "evalue": "",
     "output_type": "error",
     "traceback": [
      "\u001b[0;31m---------------------------------------------------------------------------\u001b[0m",
      "\u001b[0;31mKeyboardInterrupt\u001b[0m                         Traceback (most recent call last)",
      "\u001b[0;32m<ipython-input-118-1391fd777ef5>\u001b[0m in \u001b[0;36m<module>\u001b[0;34m\u001b[0m\n\u001b[1;32m     53\u001b[0m             \u001b[0moptimizer\u001b[0m\u001b[0;34m.\u001b[0m\u001b[0mzero_grad\u001b[0m\u001b[0;34m(\u001b[0m\u001b[0;34m)\u001b[0m\u001b[0;34m\u001b[0m\u001b[0;34m\u001b[0m\u001b[0m\n\u001b[1;32m     54\u001b[0m \u001b[0;34m\u001b[0m\u001b[0m\n\u001b[0;32m---> 55\u001b[0;31m             \u001b[0mout\u001b[0m \u001b[0;34m=\u001b[0m \u001b[0mmodel\u001b[0m\u001b[0;34m(\u001b[0m\u001b[0mdata\u001b[0m\u001b[0;34m)\u001b[0m\u001b[0;34m\u001b[0m\u001b[0;34m\u001b[0m\u001b[0m\n\u001b[0m\u001b[1;32m     56\u001b[0m             \u001b[0mloss\u001b[0m \u001b[0;34m=\u001b[0m \u001b[0mF\u001b[0m\u001b[0;34m.\u001b[0m\u001b[0mcross_entropy\u001b[0m\u001b[0;34m(\u001b[0m\u001b[0mout\u001b[0m\u001b[0;34m,\u001b[0m \u001b[0mlabels\u001b[0m\u001b[0;34m)\u001b[0m\u001b[0;34m\u001b[0m\u001b[0;34m\u001b[0m\u001b[0m\n\u001b[1;32m     57\u001b[0m             \u001b[0mloss\u001b[0m\u001b[0;34m.\u001b[0m\u001b[0mbackward\u001b[0m\u001b[0;34m(\u001b[0m\u001b[0;34m)\u001b[0m\u001b[0;34m\u001b[0m\u001b[0;34m\u001b[0m\u001b[0m\n",
      "\u001b[0;32m/mnt/hielo/application/anaconda/envs/cv/lib/python3.8/site-packages/torch/nn/modules/module.py\u001b[0m in \u001b[0;36m_call_impl\u001b[0;34m(self, *input, **kwargs)\u001b[0m\n\u001b[1;32m    720\u001b[0m             \u001b[0mresult\u001b[0m \u001b[0;34m=\u001b[0m \u001b[0mself\u001b[0m\u001b[0;34m.\u001b[0m\u001b[0m_slow_forward\u001b[0m\u001b[0;34m(\u001b[0m\u001b[0;34m*\u001b[0m\u001b[0minput\u001b[0m\u001b[0;34m,\u001b[0m \u001b[0;34m**\u001b[0m\u001b[0mkwargs\u001b[0m\u001b[0;34m)\u001b[0m\u001b[0;34m\u001b[0m\u001b[0;34m\u001b[0m\u001b[0m\n\u001b[1;32m    721\u001b[0m         \u001b[0;32melse\u001b[0m\u001b[0;34m:\u001b[0m\u001b[0;34m\u001b[0m\u001b[0;34m\u001b[0m\u001b[0m\n\u001b[0;32m--> 722\u001b[0;31m             \u001b[0mresult\u001b[0m \u001b[0;34m=\u001b[0m \u001b[0mself\u001b[0m\u001b[0;34m.\u001b[0m\u001b[0mforward\u001b[0m\u001b[0;34m(\u001b[0m\u001b[0;34m*\u001b[0m\u001b[0minput\u001b[0m\u001b[0;34m,\u001b[0m \u001b[0;34m**\u001b[0m\u001b[0mkwargs\u001b[0m\u001b[0;34m)\u001b[0m\u001b[0;34m\u001b[0m\u001b[0;34m\u001b[0m\u001b[0m\n\u001b[0m\u001b[1;32m    723\u001b[0m         for hook in itertools.chain(\n\u001b[1;32m    724\u001b[0m                 \u001b[0m_global_forward_hooks\u001b[0m\u001b[0;34m.\u001b[0m\u001b[0mvalues\u001b[0m\u001b[0;34m(\u001b[0m\u001b[0;34m)\u001b[0m\u001b[0;34m,\u001b[0m\u001b[0;34m\u001b[0m\u001b[0;34m\u001b[0m\u001b[0m\n",
      "\u001b[0;32m<ipython-input-92-a7967acc5eae>\u001b[0m in \u001b[0;36mforward\u001b[0;34m(self, x)\u001b[0m\n\u001b[1;32m     59\u001b[0m \u001b[0;34m\u001b[0m\u001b[0m\n\u001b[1;32m     60\u001b[0m         \u001b[0;32mfor\u001b[0m \u001b[0mi\u001b[0m\u001b[0;34m,\u001b[0m \u001b[0ml\u001b[0m \u001b[0;32min\u001b[0m \u001b[0menumerate\u001b[0m\u001b[0;34m(\u001b[0m\u001b[0mself\u001b[0m\u001b[0;34m.\u001b[0m\u001b[0minternal_layers\u001b[0m\u001b[0;34m)\u001b[0m\u001b[0;34m:\u001b[0m\u001b[0;34m\u001b[0m\u001b[0;34m\u001b[0m\u001b[0m\n\u001b[0;32m---> 61\u001b[0;31m             \u001b[0mx\u001b[0m\u001b[0;34m,\u001b[0m \u001b[0mA\u001b[0m \u001b[0;34m=\u001b[0m \u001b[0ml\u001b[0m\u001b[0;34m(\u001b[0m\u001b[0mx\u001b[0m\u001b[0;34m,\u001b[0m \u001b[0mself\u001b[0m\u001b[0;34m.\u001b[0m\u001b[0madj_matrix\u001b[0m\u001b[0;34m[\u001b[0m\u001b[0mi\u001b[0m\u001b[0;34m]\u001b[0m\u001b[0;34m)\u001b[0m\u001b[0;34m\u001b[0m\u001b[0;34m\u001b[0m\u001b[0m\n\u001b[0m\u001b[1;32m     62\u001b[0m             \u001b[0mx\u001b[0m \u001b[0;34m=\u001b[0m \u001b[0mself\u001b[0m\u001b[0;34m.\u001b[0m\u001b[0mactivation\u001b[0m\u001b[0;34m[\u001b[0m\u001b[0mi\u001b[0m\u001b[0;34m]\u001b[0m\u001b[0;34m(\u001b[0m\u001b[0mx\u001b[0m\u001b[0;34m)\u001b[0m\u001b[0;34m\u001b[0m\u001b[0;34m\u001b[0m\u001b[0m\n\u001b[1;32m     63\u001b[0m             \u001b[0mx\u001b[0m \u001b[0;34m=\u001b[0m \u001b[0mF\u001b[0m\u001b[0;34m.\u001b[0m\u001b[0mdropout\u001b[0m\u001b[0;34m(\u001b[0m\u001b[0mx\u001b[0m\u001b[0;34m,\u001b[0m \u001b[0mtraining\u001b[0m\u001b[0;34m=\u001b[0m\u001b[0mself\u001b[0m\u001b[0;34m.\u001b[0m\u001b[0mtraining\u001b[0m\u001b[0;34m)\u001b[0m\u001b[0;34m\u001b[0m\u001b[0;34m\u001b[0m\u001b[0m\n",
      "\u001b[0;32m/mnt/hielo/application/anaconda/envs/cv/lib/python3.8/site-packages/torch/nn/modules/module.py\u001b[0m in \u001b[0;36m_call_impl\u001b[0;34m(self, *input, **kwargs)\u001b[0m\n\u001b[1;32m    720\u001b[0m             \u001b[0mresult\u001b[0m \u001b[0;34m=\u001b[0m \u001b[0mself\u001b[0m\u001b[0;34m.\u001b[0m\u001b[0m_slow_forward\u001b[0m\u001b[0;34m(\u001b[0m\u001b[0;34m*\u001b[0m\u001b[0minput\u001b[0m\u001b[0;34m,\u001b[0m \u001b[0;34m**\u001b[0m\u001b[0mkwargs\u001b[0m\u001b[0;34m)\u001b[0m\u001b[0;34m\u001b[0m\u001b[0;34m\u001b[0m\u001b[0m\n\u001b[1;32m    721\u001b[0m         \u001b[0;32melse\u001b[0m\u001b[0;34m:\u001b[0m\u001b[0;34m\u001b[0m\u001b[0;34m\u001b[0m\u001b[0m\n\u001b[0;32m--> 722\u001b[0;31m             \u001b[0mresult\u001b[0m \u001b[0;34m=\u001b[0m \u001b[0mself\u001b[0m\u001b[0;34m.\u001b[0m\u001b[0mforward\u001b[0m\u001b[0;34m(\u001b[0m\u001b[0;34m*\u001b[0m\u001b[0minput\u001b[0m\u001b[0;34m,\u001b[0m \u001b[0;34m**\u001b[0m\u001b[0mkwargs\u001b[0m\u001b[0;34m)\u001b[0m\u001b[0;34m\u001b[0m\u001b[0;34m\u001b[0m\u001b[0m\n\u001b[0m\u001b[1;32m    723\u001b[0m         for hook in itertools.chain(\n\u001b[1;32m    724\u001b[0m                 \u001b[0m_global_forward_hooks\u001b[0m\u001b[0;34m.\u001b[0m\u001b[0mvalues\u001b[0m\u001b[0;34m(\u001b[0m\u001b[0;34m)\u001b[0m\u001b[0;34m,\u001b[0m\u001b[0;34m\u001b[0m\u001b[0;34m\u001b[0m\u001b[0m\n",
      "\u001b[0;32m/mnt/hielo/projects/pesquisa/mestrado/20202-computacao-natural/projeto/src/nn/layers.py\u001b[0m in \u001b[0;36mforward\u001b[0;34m(self, x, A)\u001b[0m\n\u001b[1;32m     21\u001b[0m         \u001b[0;32massert\u001b[0m \u001b[0mA\u001b[0m\u001b[0;34m.\u001b[0m\u001b[0msize\u001b[0m\u001b[0;34m(\u001b[0m\u001b[0;36m0\u001b[0m\u001b[0;34m)\u001b[0m \u001b[0;34m==\u001b[0m \u001b[0mself\u001b[0m\u001b[0;34m.\u001b[0m\u001b[0mkernel_size\u001b[0m\u001b[0;34m\u001b[0m\u001b[0;34m\u001b[0m\u001b[0m\n\u001b[1;32m     22\u001b[0m \u001b[0;34m\u001b[0m\u001b[0m\n\u001b[0;32m---> 23\u001b[0;31m         \u001b[0mx\u001b[0m \u001b[0;34m=\u001b[0m \u001b[0mself\u001b[0m\u001b[0;34m.\u001b[0m\u001b[0mconv\u001b[0m\u001b[0;34m(\u001b[0m\u001b[0mx\u001b[0m\u001b[0;34m)\u001b[0m\u001b[0;34m\u001b[0m\u001b[0;34m\u001b[0m\u001b[0m\n\u001b[0m\u001b[1;32m     24\u001b[0m \u001b[0;34m\u001b[0m\u001b[0m\n\u001b[1;32m     25\u001b[0m         \u001b[0mn\u001b[0m\u001b[0;34m,\u001b[0m \u001b[0mkc\u001b[0m\u001b[0;34m,\u001b[0m \u001b[0mt\u001b[0m\u001b[0;34m,\u001b[0m \u001b[0mv\u001b[0m \u001b[0;34m=\u001b[0m \u001b[0mx\u001b[0m\u001b[0;34m.\u001b[0m\u001b[0msize\u001b[0m\u001b[0;34m(\u001b[0m\u001b[0;34m)\u001b[0m\u001b[0;34m\u001b[0m\u001b[0;34m\u001b[0m\u001b[0m\n",
      "\u001b[0;32m/mnt/hielo/application/anaconda/envs/cv/lib/python3.8/site-packages/torch/nn/modules/module.py\u001b[0m in \u001b[0;36m_call_impl\u001b[0;34m(self, *input, **kwargs)\u001b[0m\n\u001b[1;32m    720\u001b[0m             \u001b[0mresult\u001b[0m \u001b[0;34m=\u001b[0m \u001b[0mself\u001b[0m\u001b[0;34m.\u001b[0m\u001b[0m_slow_forward\u001b[0m\u001b[0;34m(\u001b[0m\u001b[0;34m*\u001b[0m\u001b[0minput\u001b[0m\u001b[0;34m,\u001b[0m \u001b[0;34m**\u001b[0m\u001b[0mkwargs\u001b[0m\u001b[0;34m)\u001b[0m\u001b[0;34m\u001b[0m\u001b[0;34m\u001b[0m\u001b[0m\n\u001b[1;32m    721\u001b[0m         \u001b[0;32melse\u001b[0m\u001b[0;34m:\u001b[0m\u001b[0;34m\u001b[0m\u001b[0;34m\u001b[0m\u001b[0m\n\u001b[0;32m--> 722\u001b[0;31m             \u001b[0mresult\u001b[0m \u001b[0;34m=\u001b[0m \u001b[0mself\u001b[0m\u001b[0;34m.\u001b[0m\u001b[0mforward\u001b[0m\u001b[0;34m(\u001b[0m\u001b[0;34m*\u001b[0m\u001b[0minput\u001b[0m\u001b[0;34m,\u001b[0m \u001b[0;34m**\u001b[0m\u001b[0mkwargs\u001b[0m\u001b[0;34m)\u001b[0m\u001b[0;34m\u001b[0m\u001b[0;34m\u001b[0m\u001b[0m\n\u001b[0m\u001b[1;32m    723\u001b[0m         for hook in itertools.chain(\n\u001b[1;32m    724\u001b[0m                 \u001b[0m_global_forward_hooks\u001b[0m\u001b[0;34m.\u001b[0m\u001b[0mvalues\u001b[0m\u001b[0;34m(\u001b[0m\u001b[0;34m)\u001b[0m\u001b[0;34m,\u001b[0m\u001b[0;34m\u001b[0m\u001b[0;34m\u001b[0m\u001b[0m\n",
      "\u001b[0;32m/mnt/hielo/application/anaconda/envs/cv/lib/python3.8/site-packages/torch/nn/modules/conv.py\u001b[0m in \u001b[0;36mforward\u001b[0;34m(self, input)\u001b[0m\n\u001b[1;32m    417\u001b[0m \u001b[0;34m\u001b[0m\u001b[0m\n\u001b[1;32m    418\u001b[0m     \u001b[0;32mdef\u001b[0m \u001b[0mforward\u001b[0m\u001b[0;34m(\u001b[0m\u001b[0mself\u001b[0m\u001b[0;34m,\u001b[0m \u001b[0minput\u001b[0m\u001b[0;34m:\u001b[0m \u001b[0mTensor\u001b[0m\u001b[0;34m)\u001b[0m \u001b[0;34m->\u001b[0m \u001b[0mTensor\u001b[0m\u001b[0;34m:\u001b[0m\u001b[0;34m\u001b[0m\u001b[0;34m\u001b[0m\u001b[0m\n\u001b[0;32m--> 419\u001b[0;31m         \u001b[0;32mreturn\u001b[0m \u001b[0mself\u001b[0m\u001b[0;34m.\u001b[0m\u001b[0m_conv_forward\u001b[0m\u001b[0;34m(\u001b[0m\u001b[0minput\u001b[0m\u001b[0;34m,\u001b[0m \u001b[0mself\u001b[0m\u001b[0;34m.\u001b[0m\u001b[0mweight\u001b[0m\u001b[0;34m)\u001b[0m\u001b[0;34m\u001b[0m\u001b[0;34m\u001b[0m\u001b[0m\n\u001b[0m\u001b[1;32m    420\u001b[0m \u001b[0;34m\u001b[0m\u001b[0m\n\u001b[1;32m    421\u001b[0m \u001b[0;32mclass\u001b[0m \u001b[0mConv3d\u001b[0m\u001b[0;34m(\u001b[0m\u001b[0m_ConvNd\u001b[0m\u001b[0;34m)\u001b[0m\u001b[0;34m:\u001b[0m\u001b[0;34m\u001b[0m\u001b[0;34m\u001b[0m\u001b[0m\n",
      "\u001b[0;32m/mnt/hielo/application/anaconda/envs/cv/lib/python3.8/site-packages/torch/nn/modules/conv.py\u001b[0m in \u001b[0;36m_conv_forward\u001b[0;34m(self, input, weight)\u001b[0m\n\u001b[1;32m    413\u001b[0m                             \u001b[0mweight\u001b[0m\u001b[0;34m,\u001b[0m \u001b[0mself\u001b[0m\u001b[0;34m.\u001b[0m\u001b[0mbias\u001b[0m\u001b[0;34m,\u001b[0m \u001b[0mself\u001b[0m\u001b[0;34m.\u001b[0m\u001b[0mstride\u001b[0m\u001b[0;34m,\u001b[0m\u001b[0;34m\u001b[0m\u001b[0;34m\u001b[0m\u001b[0m\n\u001b[1;32m    414\u001b[0m                             _pair(0), self.dilation, self.groups)\n\u001b[0;32m--> 415\u001b[0;31m         return F.conv2d(input, weight, self.bias, self.stride,\n\u001b[0m\u001b[1;32m    416\u001b[0m                         self.padding, self.dilation, self.groups)\n\u001b[1;32m    417\u001b[0m \u001b[0;34m\u001b[0m\u001b[0m\n",
      "\u001b[0;31mKeyboardInterrupt\u001b[0m: "
     ]
    }
   ],
   "source": [
    "from tqdm import tqdm\n",
    "import pdb\n",
    "import torch\n",
    "import torch.nn as nn\n",
    "from IPython.display import clear_output, display\n",
    "from sklearn.model_selection import KFold\n",
    "\n",
    "kf = KFold(n_splits=5, shuffle=True, random_state=42)\n",
    "kf.get_n_splits(action_sequences)\n",
    "epochs = 5\n",
    "device = torch.device('cuda' if torch.cuda.is_available() else 'cpu')\n",
    "print(device)\n",
    "k=0\n",
    "loss_history_train = []\n",
    "acc_history_val = []\n",
    "epoch_history = []\n",
    "model_history = []\n",
    "val_idx_history = []\n",
    "sources = list_values_by_field_name(action_sequences, 'source')\n",
    "\n",
    "for train_idxs, val_idxs in kf.split(action_sequences):\n",
    "    \n",
    "    print(train_idxs)\n",
    "    print(val_idxs)\n",
    "    \n",
    "    train_sources = [sources[i] for i in train_idxs]\n",
    "    validation_sources = [sources[i] for i in val_idxs]\n",
    "    train_sequences = filter_by_metadata(augmented_action_sequences, 'source', train_sources)\n",
    "    validation_sequences = filter_by_metadata(augmented_action_sequences, 'source', validation_sources)\n",
    "\n",
    "    train_dataset = PoseSequenceDataset(train_sequences, transform=transform)\n",
    "    validation_dataset = PoseSequenceDataset(validation_sequences, transform=transform)\n",
    "\n",
    "    train_dataloader = DataLoader(train_dataset, batch_size=batch_size, shuffle=True)\n",
    "    validation_dataloader = DataLoader(validation_dataset, batch_size=batch_size, shuffle=True)\n",
    "    \n",
    "    model = EvolutionaryNet(3, 7, partition_modes, activation_functions, genome).to(device)\n",
    "\n",
    "    optimizer = torch.optim.Adam(model.parameters(), lr=0.002)\n",
    "    model.train()\n",
    "    loss_history_train.append([])\n",
    "    acc_history_val.append([])\n",
    "    epoch_history.append([])\n",
    "    val_idx_history.append(val_idxs)\n",
    "    for epoch in range(epochs):\n",
    "        print('Epoca {}'.format(epoch))\n",
    "\n",
    "        loss_accum = 0\n",
    "        for samples in train_dataloader:\n",
    "            data = samples['frames'].to(device, dtype=torch.float)\n",
    "            labels = samples['labels'].to(device, dtype=torch.long)\n",
    "\n",
    "            optimizer.zero_grad()\n",
    "\n",
    "            out = model(data)\n",
    "            loss = F.cross_entropy(out, labels)\n",
    "            loss.backward()\n",
    "            optimizer.step()\n",
    "            total_loss = loss.item()\n",
    "            loss_accum = loss_accum + total_loss\n",
    "\n",
    "\n",
    "        if (epoch + 1) % 5 == 0:\n",
    "            model.eval()\n",
    "            num_samples = 0\n",
    "            accum = 0\n",
    "            for samples in validation_dataloader:\n",
    "                data = samples['frames'].to(device, dtype=torch.float)\n",
    "                labels = samples['labels'].to(device, dtype=torch.long)\n",
    "                out = model(data)\n",
    "\n",
    "                accum = accum + get_accuracy(out, labels) * samples['frames'].shape[0]\n",
    "                num_samples = num_samples + samples['frames'].shape[0]\n",
    "\n",
    "            validation_accuracy = accum/num_samples\n",
    "\n",
    "            acc_history_val[k].append(validation_accuracy)\n",
    "            loss_history_train[k].append(loss_accum) \n",
    "            epoch_history[k].append(epoch)\n",
    "            \n",
    "            clear_output(wait=True)\n",
    "            model.train()\n",
    "            \n",
    "            for i in range(k):\n",
    "                final_loss = loss_history_train[i][-1]\n",
    "                final_val_acc = acc_history_val[i][-1] \n",
    "                print('[Resultado iteração {}] - Loss: {:.4f} - Val Acc: {:.4f}'.format(i, final_loss, final_val_acc))\n",
    "            \n",
    "\n",
    "            print('[{}/{}] Loss: {:.4f} - Val Acc: {:.4f}'.format(epoch, epochs, loss_accum, validation_accuracy))\n",
    "            fig, (ax1, ax2) = plt.subplots(1, 2, figsize=(15,5))\n",
    "            for i in range(k+1):\n",
    "                ax1.plot(epoch_history[i], loss_history_train[i], 'b')\n",
    "            ax1.grid()\n",
    "            for i in range(k+1):\n",
    "                ax2.plot(epoch_history[i], acc_history_val[i], 'r')\n",
    "            ax2.grid()\n",
    "            plt.show()\n",
    "    k = k+1\n",
    "    model.eval()\n",
    "    model_history.append(model)"
   ]
  },
  {
   "cell_type": "code",
   "execution_count": 18,
   "metadata": {},
   "outputs": [],
   "source": [
    "label_colors = {\n",
    "    0: matplotlib.colors.to_rgb('#c62bc6'),\n",
    "    1: matplotlib.colors.to_rgb('#49bcad'),\n",
    "    2: matplotlib.colors.to_rgb('#e1ff00'),\n",
    "    3: matplotlib.colors.to_rgb('#00bbff'),\n",
    "    4: matplotlib.colors.to_rgb('#ffd800'),\n",
    "    5: matplotlib.colors.to_rgb('#00ff11'),\n",
    "    6: matplotlib.colors.to_rgb('#001dff'),\n",
    "    7: matplotlib.colors.to_rgb('#fff600'),\n",
    "    8: matplotlib.colors.to_rgb('#d65968'),\n",
    "}"
   ]
  },
  {
   "cell_type": "code",
   "execution_count": 19,
   "metadata": {},
   "outputs": [],
   "source": [
    "def create_segmentation_picture(values, nodes_per_frame=16):\n",
    "    flatten_values = values.flatten()\n",
    "    picture = np.array([ label_colors[i] for i in flatten_values])\n",
    "    picture = picture.reshape((-1,nodes_per_frame, 3))\n",
    "    picture = np.transpose(picture, (1,0,2))\n",
    "    return picture"
   ]
  },
  {
   "cell_type": "code",
   "execution_count": 20,
   "metadata": {},
   "outputs": [],
   "source": [
    "def define_label_by_frame(values, nodes_per_frame=16):\n",
    "    flatten_values = values.flatten()\n",
    "    frame_wise_mode = stats.mode(flatten_values.reshape((-1, nodes_per_frame)), axis=1)\n",
    "    frame_pred = frame_wise_mode[0].flatten()\n",
    "    frame_pred = np.array([ [ i for j in range(16)] for i in frame_pred ])\n",
    "    return frame_pred"
   ]
  },
  {
   "cell_type": "code",
   "execution_count": 21,
   "metadata": {},
   "outputs": [],
   "source": [
    "def print_legend():\n",
    "    fig=plt.figure(figsize=(20, 4))\n",
    "    for i in idx_label.keys():\n",
    "        fig.add_subplot(1, 7, i+1)\n",
    "        plt.imshow(create_segmentation_picture(np.ones((16,16)) * i))\n",
    "        plt.axis('off')\n",
    "        plt.title(idx_label[i])\n",
    "    plt.show()"
   ]
  },
  {
   "cell_type": "code",
   "execution_count": 23,
   "metadata": {},
   "outputs": [
    {
     "name": "stdout",
     "output_type": "stream",
     "text": [
      "{'Left Punch': 0, 'Right Punch': 1, 'Back Kick': 2, 'Right Kick': 3, 'Left Kick To The Head': 4, 'Right Kick To The Head': 5, 'Left Kick': 6}\n"
     ]
    },
    {
     "data": {
      "image/png": "[encoded data removed]",
      "text/plain": [
       "<Figure size 1440x288 with 7 Axes>"
      ]
     },
     "metadata": {
      "needs_background": "light"
     },
     "output_type": "display_data"
    },
    {
     "data": {
      "image/png": "[encoded data removed]",
      "text/plain": [
       "<Figure size 1440x288 with 3 Axes>"
      ]
     },
     "metadata": {
      "needs_background": "light"
     },
     "output_type": "display_data"
    },
    {
     "data": {
      "image/png": "[encoded data removed]",
      "text/plain": [
       "<Figure size 1440x288 with 3 Axes>"
      ]
     },
     "metadata": {
      "needs_background": "light"
     },
     "output_type": "display_data"
    },
    {
     "data": {
      "image/png": "[encoded data removed]",
      "text/plain": [
       "<Figure size 1440x288 with 3 Axes>"
      ]
     },
     "metadata": {
      "needs_background": "light"
     },
     "output_type": "display_data"
    },
    {
     "data": {
      "image/png": "[encoded data removed]",
      "text/plain": [
       "<Figure size 1440x288 with 3 Axes>"
      ]
     },
     "metadata": {
      "needs_background": "light"
     },
     "output_type": "display_data"
    },
    {
     "data": {
      "image/png": "[encoded data removed]",
      "text/plain": [
       "<Figure size 1440x288 with 3 Axes>"
      ]
     },
     "metadata": {
      "needs_background": "light"
     },
     "output_type": "display_data"
    }
   ],
   "source": [
    "sample_idx = 30\n",
    "print(label_idx)\n",
    "print_legend()\n",
    "for fold in range(len(val_idx_history)):\n",
    "\n",
    "    validation_sources = [sources[i] for i in val_idx_history[fold]]\n",
    "    validation_sequences = filter_by_metadata(augmented_action_sequences, 'source', validation_sources)\n",
    "    validation_dataset = PoseSequenceDataset(validation_sequences, transform=transform)\n",
    "    validation_dataloader = DataLoader(validation_dataset, batch_size=batch_size, shuffle=True)\n",
    "\n",
    "    for samples in validation_dataloader:\n",
    "        data = samples['frames'].to(device, dtype=torch.float)\n",
    "        labels = samples['labels'].to(device, dtype=torch.long)\n",
    "        preds = model_history[fold](data, A)\n",
    "        preds = torch.argmax(preds, dim=1)\n",
    "        break;\n",
    "    sample = data[sample_idx].detach().cpu().numpy();\n",
    "    pred = preds[sample_idx].detach().cpu().numpy();\n",
    "    label = labels[sample_idx].detach().cpu().numpy();\n",
    "\n",
    "    labels_picture = create_segmentation_picture(label)\n",
    "    preds_by_node_picture = create_segmentation_picture(pred)\n",
    "    preds_by_frame_picture = create_segmentation_picture(define_label_by_frame(pred))\n",
    "    \n",
    "    fig=plt.figure(figsize=(20, 4))\n",
    "    fig.add_subplot(3, 1, 1)\n",
    "    plt.imshow(labels_picture)\n",
    "    fig.add_subplot(3, 1, 2)\n",
    "    plt.imshow(preds_by_node_picture)\n",
    "    fig.add_subplot(3, 1, 3)\n",
    "    plt.imshow(preds_by_frame_picture)\n",
    "\n",
    "    plt.show()"
   ]
  },
  {
   "cell_type": "code",
   "execution_count": null,
   "metadata": {},
   "outputs": [],
   "source": []
  }
 ],
 "metadata": {
  "kernelspec": {
   "display_name": "Python 3",
   "language": "python",
   "name": "python3"
  },
  "language_info": {
   "codemirror_mode": {
    "name": "ipython",
    "version": 3
   },
   "file_extension": ".py",
   "mimetype": "text/x-python",
   "name": "python",
   "nbconvert_exporter": "python",
   "pygments_lexer": "ipython3",
   "version": "3.8.5"
  }
 },
 "nbformat": 4,
 "nbformat_minor": 2
}
