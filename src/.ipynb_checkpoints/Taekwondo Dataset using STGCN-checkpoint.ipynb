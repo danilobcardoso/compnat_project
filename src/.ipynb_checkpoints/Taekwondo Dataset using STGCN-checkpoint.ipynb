{
 "cells": [
  {
   "cell_type": "code",
   "execution_count": 1,
   "metadata": {},
   "outputs": [],
   "source": [
    "from loader.taekwondo import TaekwondoLoader\n",
    "from processing.feature import ScaleNormalization\n",
    "from processing.partition import get_adjacency_by_group, get_adjacency_by_distance\n",
    "from sample.util import generate_n_action_sequence, filter_by_metadata, list_values_by_field_name, merge_actions\n",
    "\n",
    "from dataset.pose_sequence import PoseSequenceDataset\n",
    "from dataset.transform import SplitFramesAndLabels, UnfoldFeatures, ToSTGcn\n",
    "\n",
    "from nn.layers import ST_GCN"
   ]
  },
  {
   "cell_type": "code",
   "execution_count": 2,
   "metadata": {},
   "outputs": [],
   "source": [
    "import torch\n",
    "from torch.utils.data import Dataset, DataLoader\n",
    "from torchvision import transforms, utils\n",
    "\n",
    "import matplotlib\n",
    "from matplotlib import pyplot as plt\n",
    "import matplotlib.animation as animation\n",
    "from matplotlib.animation import FuncAnimation\n",
    "\n",
    "from IPython.display import HTML\n",
    "from IPython.display import display\n",
    "\n",
    "import numpy as np\n",
    "from scipy.spatial.transform import Rotation as R\n",
    "from scipy import stats\n",
    "\n",
    "from math import pi\n",
    "from numpy import inf\n",
    "\n",
    "import imageio\n",
    "\n",
    "import sklearn"
   ]
  },
  {
   "cell_type": "code",
   "execution_count": 13,
   "metadata": {},
   "outputs": [],
   "source": [
    "\n",
    "num_node = 16\n",
    "kernel_strategy = 'group' # Opções: 'group' / 'distance'\n",
    "batch_size = 64\n",
    "new_samples_per_athlete = 1000\n",
    "unfold = False"
   ]
  },
  {
   "cell_type": "code",
   "execution_count": 4,
   "metadata": {},
   "outputs": [],
   "source": [
    "partition_groups = {\n",
    "            2: {'limb': 0, 'distance': 2},\n",
    "            15: {'limb': 0, 'distance': 2},\n",
    "            3: {'limb': 0, 'distance': 0},\n",
    "            6: {'limb': 3, 'distance': 0},\n",
    "            0: {'limb': 1, 'distance': 1},\n",
    "            7: {'limb': 1, 'distance': 2},\n",
    "            9: {'limb': 1, 'distance': 3},\n",
    "            1: {'limb': 2, 'distance': 1},\n",
    "            8: {'limb': 2, 'distance': 2},\n",
    "            10: {'limb': 2, 'distance': 3},\n",
    "            4: {'limb': 4, 'distance': 1},\n",
    "            12: {'limb': 4, 'distance': 2},\n",
    "            14: {'limb': 4, 'distance': 3},\n",
    "            5: {'limb': 5, 'distance': 1},\n",
    "            11: {'limb': 5, 'distance': 2},\n",
    "            13: {'limb': 5, 'distance': 3}\n",
    "        }"
   ]
  },
  {
   "cell_type": "code",
   "execution_count": 5,
   "metadata": {},
   "outputs": [
    {
     "data": {
      "text/plain": [
       "'/mnt/hielo/projects/pesquisa/mestrado/20202-computacao-natural/projeto/src'"
      ]
     },
     "execution_count": 5,
     "metadata": {},
     "output_type": "execute_result"
    }
   ],
   "source": [
    "import os\n",
    "cwd = os.getcwd()\n",
    "cwd"
   ]
  },
  {
   "cell_type": "code",
   "execution_count": 6,
   "metadata": {},
   "outputs": [
    {
     "name": "stdout",
     "output_type": "stream",
     "text": [
      "{'Right Punch', 'Right Kick To The Head', 'Left Kick To The Head', 'Left Kick', 'Left Punch', 'Right Kick', 'Back Kick'}\n"
     ]
    }
   ],
   "source": [
    "loader = TaekwondoLoader('../dataset')\n",
    "actions, labels, label_idx, skeleton_model = loader.load();\n",
    "print(labels)\n",
    "# print(label_idx)\n",
    "# print(skeleton_model)\n",
    "idx_label = { idx: key for (idx, key) in enumerate(labels)}"
   ]
  },
  {
   "cell_type": "code",
   "execution_count": 7,
   "metadata": {},
   "outputs": [],
   "source": [
    "scale = ScaleNormalization()\n",
    "for action in actions:\n",
    "    scale(action)"
   ]
  },
  {
   "cell_type": "code",
   "execution_count": 8,
   "metadata": {},
   "outputs": [
    {
     "name": "stdout",
     "output_type": "stream",
     "text": [
      " 6\n",
      "[{'source': ' 6'}  \t 41 poses, {'source': ' 6'}  \t 44 poses, {'source': ' 6'}  \t 33 poses, {'source': ' 6'}  \t 50 poses, {'source': ' 6'}  \t 53 poses, {'source': ' 6'}  \t 49 poses, {'source': ' 6'}  \t 30 poses]\n",
      " 1\n",
      "[{'source': ' 1'}  \t 39 poses, {'source': ' 1'}  \t 44 poses, {'source': ' 1'}  \t 59 poses, {'source': ' 1'}  \t 39 poses, {'source': ' 1'}  \t 46 poses, {'source': ' 1'}  \t 46 poses, {'source': ' 1'}  \t 52 poses]\n",
      " 3\n",
      "[{'source': ' 3'}  \t 52 poses, {'source': ' 3'}  \t 46 poses, {'source': ' 3'}  \t 42 poses, {'source': ' 3'}  \t 34 poses, {'source': ' 3'}  \t 41 poses, {'source': ' 3'}  \t 38 poses, {'source': ' 3'}  \t 41 poses]\n",
      " 8\n",
      "[{'source': ' 8'}  \t 39 poses, {'source': ' 8'}  \t 27 poses, {'source': ' 8'}  \t 44 poses, {'source': ' 8'}  \t 24 poses, {'source': ' 8'}  \t 41 poses, {'source': ' 8'}  \t 26 poses, {'source': ' 8'}  \t 18 poses]\n",
      " 2 \n",
      "[{'source': ' 2 '}  \t 47 poses, {'source': ' 2 '}  \t 46 poses, {'source': ' 2 '}  \t 41 poses, {'source': ' 2 '}  \t 59 poses, {'source': ' 2 '}  \t 48 poses, {'source': ' 2 '}  \t 49 poses, {'source': ' 2 '}  \t 35 poses]\n",
      " 5\n",
      "[{'source': ' 5'}  \t 38 poses, {'source': ' 5'}  \t 32 poses, {'source': ' 5'}  \t 34 poses, {'source': ' 5'}  \t 35 poses, {'source': ' 5'}  \t 42 poses, {'source': ' 5'}  \t 44 poses, {'source': ' 5'}  \t 39 poses]\n",
      " 10\n",
      "[{'source': ' 10'}  \t 21 poses, {'source': ' 10'}  \t 32 poses, {'source': ' 10'}  \t 28 poses, {'source': ' 10'}  \t 49 poses, {'source': ' 10'}  \t 41 poses, {'source': ' 10'}  \t 64 poses, {'source': ' 10'}  \t 62 poses]\n",
      " 7\n",
      "[{'source': ' 7'}  \t 22 poses, {'source': ' 7'}  \t 43 poses, {'source': ' 7'}  \t 22 poses, {'source': ' 7'}  \t 23 poses, {'source': ' 7'}  \t 36 poses, {'source': ' 7'}  \t 37 poses, {'source': ' 7'}  \t 29 poses]\n",
      " 4\n",
      "[{'source': ' 4'}  \t 22 poses, {'source': ' 4'}  \t 30 poses, {'source': ' 4'}  \t 36 poses, {'source': ' 4'}  \t 39 poses, {'source': ' 4'}  \t 37 poses, {'source': ' 4'}  \t 29 poses, {'source': ' 4'}  \t 31 poses]\n",
      " 9\n",
      "[{'source': ' 9'}  \t 28 poses, {'source': ' 9'}  \t 27 poses, {'source': ' 9'}  \t 43 poses, {'source': ' 9'}  \t 49 poses, {'source': ' 9'}  \t 35 poses, {'source': ' 9'}  \t 35 poses, {'source': ' 9'}  \t 29 poses]\n"
     ]
    }
   ],
   "source": [
    "action_sequences = []\n",
    "\n",
    "for source in list_values_by_field_name(actions, 'source'):\n",
    "    print(source)\n",
    "    same_source_actions = filter_by_metadata(actions, 'source', source)\n",
    "    print(same_source_actions)\n",
    "    merged_action = merge_actions(same_source_actions)\n",
    "    action_sequences.append(merged_action)"
   ]
  },
  {
   "cell_type": "code",
   "execution_count": 9,
   "metadata": {},
   "outputs": [],
   "source": [
    "augmented_action_sequences = []\n",
    "\n",
    "for action_sequence in action_sequences:\n",
    "    augmented_action_sequences = augmented_action_sequences + generate_n_action_sequence(action_sequence, 40)"
   ]
  },
  {
   "cell_type": "code",
   "execution_count": 10,
   "metadata": {},
   "outputs": [],
   "source": [
    "for action_sequence in action_sequences:\n",
    "    action_sequence.calculate_velocity_xyz()\n",
    "\n",
    "for action_sequence in augmented_action_sequences:\n",
    "    action_sequence.calculate_velocity_xyz()"
   ]
  },
  {
   "cell_type": "code",
   "execution_count": 14,
   "metadata": {},
   "outputs": [
    {
     "name": "stdout",
     "output_type": "stream",
     "text": [
      "Not using unfold\n"
     ]
    }
   ],
   "source": [
    "\n",
    "if  unfold:\n",
    "    print('Using unfold')\n",
    "    transform = transforms.Compose([SplitFramesAndLabels(label_idx, ['position_xyz', 'velocity_xyz'], max_lenght=212),\n",
    "                                    UnfoldFeatures(skeleton_model),\n",
    "                                    ToSTGcn()\n",
    "                                   ])\n",
    "else:\n",
    "    print('Not using unfold')\n",
    "    transform = transforms.Compose([SplitFramesAndLabels(label_idx, ['position_xyz', 'velocity_xyz'], max_lenght=212),\n",
    "                                ToSTGcn()\n",
    "                               ])\n",
    "    \n",
    "\n",
    "dataset = PoseSequenceDataset(augmented_action_sequences, transform=transform)\n",
    "input_size = dataset[0]['frames'].shape[0]"
   ]
  },
  {
   "cell_type": "code",
   "execution_count": 15,
   "metadata": {},
   "outputs": [
    {
     "data": {
      "text/plain": [
       "6"
      ]
     },
     "execution_count": 15,
     "metadata": {},
     "output_type": "execute_result"
    }
   ],
   "source": [
    "input_size"
   ]
  },
  {
   "cell_type": "code",
   "execution_count": 16,
   "metadata": {},
   "outputs": [
    {
     "name": "stdout",
     "output_type": "stream",
     "text": [
      "Usando estratégia GRUPO\n",
      "Tamanho do kernel: 6\n"
     ]
    },
    {
     "name": "stderr",
     "output_type": "stream",
     "text": [
      "/mnt/hielo/projects/pesquisa/mestrado/20202-computacao-natural/projeto/src/processing/partition.py:15: RuntimeWarning: divide by zero encountered in true_divide\n",
      "  norm_coeficient = 1/norm_coeficient\n"
     ]
    }
   ],
   "source": [
    "if kernel_strategy == 'group':\n",
    "    print('Usando estratégia GRUPO')\n",
    "    adjacency, kernel_size = get_adjacency_by_group(skeleton_model, partition_groups)\n",
    "else:\n",
    "    print('Usando estratégia DISTÂNCIA')\n",
    "    adjacency, kernel_size = get_adjacency_by_distance(skeleton_model, partition_groups)\n",
    "    \n",
    "print(\"Tamanho do kernel: {}\".format(kernel_size))"
   ]
  },
  {
   "cell_type": "code",
   "execution_count": 17,
   "metadata": {},
   "outputs": [],
   "source": [
    "def get_accuracy(out_tensor, labels_tensor):\n",
    "    out_np = out_tensor.detach().cpu().numpy()\n",
    "    out_np = np.array(np.argmax(out_np, axis=1))\n",
    "\n",
    "    labels_np = np.array(labels_tensor.cpu().numpy())\n",
    "    corrects = np.array(out_np == labels_np)\n",
    "\n",
    "    result = np.sum(corrects) / (out_np.shape[0] * out_np.shape[1] * out_np.shape[2])\n",
    "    return result"
   ]
  },
  {
   "cell_type": "code",
   "execution_count": 24,
   "metadata": {},
   "outputs": [],
   "source": [
    "genome = [[\n",
    "    4,\n",
    "    'group',\n",
    "    'tree',\n",
    "    'relu',\n",
    "    False,\n",
    "    None,\n",
    "    None,\n",
    "    None,\n",
    "    None\n",
    "]]"
   ]
  },
  {
   "cell_type": "code",
   "execution_count": 25,
   "metadata": {},
   "outputs": [
    {
     "data": {
      "text/plain": [
       "[[4, 'group', 'tree', 'relu', False, None, None, None, None]]"
      ]
     },
     "execution_count": 25,
     "metadata": {},
     "output_type": "execute_result"
    }
   ],
   "source": [
    "genome"
   ]
  },
  {
   "cell_type": "code",
   "execution_count": null,
   "metadata": {},
   "outputs": [],
   "source": [
    "import torch.nn.functional as F\n",
    "class Net(torch.nn.Module):\n",
    "    def __init__(self, input_size, partition_modes, genome):\n",
    "        super(Net, self).__init__()\n",
    "        \n",
    "        self.layers = []\n",
    "        self.activation = []\n",
    "        self.partition_mode = []\n",
    "        \n",
    "        c_in = input_size\n",
    "        for g in genome:\n",
    "            c_out = g[0]\n",
    "            partition_mode = g[1]\n",
    "            model_type = g[2]\n",
    "            activation = g[3]\n",
    "            kernel_size = partition_modes[partition_mode][kernel_size]\n",
    "            self.layers.append(ST_GCN(c_in, c_out, kernel_size))\n",
    "            \n",
    "        \n",
    "        print(\"Input size: {}\".format(input_size))\n",
    "        print(\"Kernel_size: {}\".format(kernel_size))\n",
    "        \n",
    "    def forward(self, x, A):\n",
    "        '''x, A = self.conv1(x, A) \n",
    "        x = F.relu(x)\n",
    "        x = F.dropout(x, training=self.training)\n",
    "        x, A = self.conv2(x, A)\n",
    "        x = F.relu(x)\n",
    "        x = F.dropout(x, training=self.training)\n",
    "        x, A = self.conv3(x, A)\n",
    "        x = F.relu(x)\n",
    "        x = F.dropout(x, training=self.training)\n",
    "        x, A = self.conv4(x, A)\n",
    "        x = F.relu(x)'''\n",
    "        return F.softmax(x, dim=1)"
   ]
  },
  {
   "cell_type": "code",
   "execution_count": 18,
   "metadata": {},
   "outputs": [],
   "source": [
    "import torch.nn.functional as F\n",
    "class Net(torch.nn.Module):\n",
    "    def __init__(self):\n",
    "        super(Net, self).__init__()\n",
    "        self.conv1 = ST_GCN(input_size, 8, kernel_size)\n",
    "        self.conv2 = ST_GCN(8, 8, kernel_size)\n",
    "        self.conv3 = ST_GCN(8, 4, kernel_size)\n",
    "        self.conv4 = ST_GCN(4, 7, kernel_size)\n",
    "        print(\"Input size: {}\".format(input_size))\n",
    "        print(\"Kernel_size: {}\".format(kernel_size))\n",
    "        \n",
    "    def forward(self, x, A):\n",
    "        x, A = self.conv1(x, A) \n",
    "        x = F.relu(x)\n",
    "        x = F.dropout(x, training=self.training)\n",
    "        x, A = self.conv2(x, A)\n",
    "        x = F.relu(x)\n",
    "        x = F.dropout(x, training=self.training)\n",
    "        x, A = self.conv3(x, A)\n",
    "        x = F.relu(x)\n",
    "        x = F.dropout(x, training=self.training)\n",
    "        x, A = self.conv4(x, A)\n",
    "        x = F.relu(x)\n",
    "        return F.softmax(x, dim=1)"
   ]
  },
  {
   "cell_type": "code",
   "execution_count": 19,
   "metadata": {},
   "outputs": [
    {
     "name": "stdout",
     "output_type": "stream",
     "text": [
      "[9/50] Loss: 8.9480 - Val Acc: 0.4137\n"
     ]
    },
    {
     "data": {
      "image/png": "[encoded data removed]",
      "text/plain": [
       "<Figure size 1080x360 with 2 Axes>"
      ]
     },
     "metadata": {
      "needs_background": "light"
     },
     "output_type": "display_data"
    },
    {
     "name": "stdout",
     "output_type": "stream",
     "text": [
      "Epoca 10\n",
      "Epoca 11\n"
     ]
    },
    {
     "ename": "KeyboardInterrupt",
     "evalue": "",
     "output_type": "error",
     "traceback": [
      "\u001b[0;31m---------------------------------------------------------------------------\u001b[0m",
      "\u001b[0;31mKeyboardInterrupt\u001b[0m                         Traceback (most recent call last)",
      "\u001b[0;32m<ipython-input-19-7150413c2e1d>\u001b[0m in \u001b[0;36m<module>\u001b[0;34m\u001b[0m\n\u001b[1;32m     45\u001b[0m \u001b[0;34m\u001b[0m\u001b[0m\n\u001b[1;32m     46\u001b[0m         \u001b[0mloss_accum\u001b[0m \u001b[0;34m=\u001b[0m \u001b[0;36m0\u001b[0m\u001b[0;34m\u001b[0m\u001b[0;34m\u001b[0m\u001b[0m\n\u001b[0;32m---> 47\u001b[0;31m         \u001b[0;32mfor\u001b[0m \u001b[0msamples\u001b[0m \u001b[0;32min\u001b[0m \u001b[0mtrain_dataloader\u001b[0m\u001b[0;34m:\u001b[0m\u001b[0;34m\u001b[0m\u001b[0;34m\u001b[0m\u001b[0m\n\u001b[0m\u001b[1;32m     48\u001b[0m             \u001b[0mdata\u001b[0m \u001b[0;34m=\u001b[0m \u001b[0msamples\u001b[0m\u001b[0;34m[\u001b[0m\u001b[0;34m'frames'\u001b[0m\u001b[0;34m]\u001b[0m\u001b[0;34m.\u001b[0m\u001b[0mto\u001b[0m\u001b[0;34m(\u001b[0m\u001b[0mdevice\u001b[0m\u001b[0;34m,\u001b[0m \u001b[0mdtype\u001b[0m\u001b[0;34m=\u001b[0m\u001b[0mtorch\u001b[0m\u001b[0;34m.\u001b[0m\u001b[0mfloat\u001b[0m\u001b[0;34m)\u001b[0m\u001b[0;34m\u001b[0m\u001b[0;34m\u001b[0m\u001b[0m\n\u001b[1;32m     49\u001b[0m             \u001b[0mlabels\u001b[0m \u001b[0;34m=\u001b[0m \u001b[0msamples\u001b[0m\u001b[0;34m[\u001b[0m\u001b[0;34m'labels'\u001b[0m\u001b[0;34m]\u001b[0m\u001b[0;34m.\u001b[0m\u001b[0mto\u001b[0m\u001b[0;34m(\u001b[0m\u001b[0mdevice\u001b[0m\u001b[0;34m,\u001b[0m \u001b[0mdtype\u001b[0m\u001b[0;34m=\u001b[0m\u001b[0mtorch\u001b[0m\u001b[0;34m.\u001b[0m\u001b[0mlong\u001b[0m\u001b[0;34m)\u001b[0m\u001b[0;34m\u001b[0m\u001b[0;34m\u001b[0m\u001b[0m\n",
      "\u001b[0;32m/mnt/hielo/application/anaconda/envs/cv/lib/python3.8/site-packages/torch/utils/data/dataloader.py\u001b[0m in \u001b[0;36m__next__\u001b[0;34m(self)\u001b[0m\n\u001b[1;32m    361\u001b[0m \u001b[0;34m\u001b[0m\u001b[0m\n\u001b[1;32m    362\u001b[0m     \u001b[0;32mdef\u001b[0m \u001b[0m__next__\u001b[0m\u001b[0;34m(\u001b[0m\u001b[0mself\u001b[0m\u001b[0;34m)\u001b[0m\u001b[0;34m:\u001b[0m\u001b[0;34m\u001b[0m\u001b[0;34m\u001b[0m\u001b[0m\n\u001b[0;32m--> 363\u001b[0;31m         \u001b[0mdata\u001b[0m \u001b[0;34m=\u001b[0m \u001b[0mself\u001b[0m\u001b[0;34m.\u001b[0m\u001b[0m_next_data\u001b[0m\u001b[0;34m(\u001b[0m\u001b[0;34m)\u001b[0m\u001b[0;34m\u001b[0m\u001b[0;34m\u001b[0m\u001b[0m\n\u001b[0m\u001b[1;32m    364\u001b[0m         \u001b[0mself\u001b[0m\u001b[0;34m.\u001b[0m\u001b[0m_num_yielded\u001b[0m \u001b[0;34m+=\u001b[0m \u001b[0;36m1\u001b[0m\u001b[0;34m\u001b[0m\u001b[0;34m\u001b[0m\u001b[0m\n\u001b[1;32m    365\u001b[0m         \u001b[0;32mif\u001b[0m \u001b[0mself\u001b[0m\u001b[0;34m.\u001b[0m\u001b[0m_dataset_kind\u001b[0m \u001b[0;34m==\u001b[0m \u001b[0m_DatasetKind\u001b[0m\u001b[0;34m.\u001b[0m\u001b[0mIterable\u001b[0m \u001b[0;32mand\u001b[0m\u001b[0;31m \u001b[0m\u001b[0;31m\\\u001b[0m\u001b[0;34m\u001b[0m\u001b[0;34m\u001b[0m\u001b[0m\n",
      "\u001b[0;32m/mnt/hielo/application/anaconda/envs/cv/lib/python3.8/site-packages/torch/utils/data/dataloader.py\u001b[0m in \u001b[0;36m_next_data\u001b[0;34m(self)\u001b[0m\n\u001b[1;32m    401\u001b[0m     \u001b[0;32mdef\u001b[0m \u001b[0m_next_data\u001b[0m\u001b[0;34m(\u001b[0m\u001b[0mself\u001b[0m\u001b[0;34m)\u001b[0m\u001b[0;34m:\u001b[0m\u001b[0;34m\u001b[0m\u001b[0;34m\u001b[0m\u001b[0m\n\u001b[1;32m    402\u001b[0m         \u001b[0mindex\u001b[0m \u001b[0;34m=\u001b[0m \u001b[0mself\u001b[0m\u001b[0;34m.\u001b[0m\u001b[0m_next_index\u001b[0m\u001b[0;34m(\u001b[0m\u001b[0;34m)\u001b[0m  \u001b[0;31m# may raise StopIteration\u001b[0m\u001b[0;34m\u001b[0m\u001b[0;34m\u001b[0m\u001b[0m\n\u001b[0;32m--> 403\u001b[0;31m         \u001b[0mdata\u001b[0m \u001b[0;34m=\u001b[0m \u001b[0mself\u001b[0m\u001b[0;34m.\u001b[0m\u001b[0m_dataset_fetcher\u001b[0m\u001b[0;34m.\u001b[0m\u001b[0mfetch\u001b[0m\u001b[0;34m(\u001b[0m\u001b[0mindex\u001b[0m\u001b[0;34m)\u001b[0m  \u001b[0;31m# may raise StopIteration\u001b[0m\u001b[0;34m\u001b[0m\u001b[0;34m\u001b[0m\u001b[0m\n\u001b[0m\u001b[1;32m    404\u001b[0m         \u001b[0;32mif\u001b[0m \u001b[0mself\u001b[0m\u001b[0;34m.\u001b[0m\u001b[0m_pin_memory\u001b[0m\u001b[0;34m:\u001b[0m\u001b[0;34m\u001b[0m\u001b[0;34m\u001b[0m\u001b[0m\n\u001b[1;32m    405\u001b[0m             \u001b[0mdata\u001b[0m \u001b[0;34m=\u001b[0m \u001b[0m_utils\u001b[0m\u001b[0;34m.\u001b[0m\u001b[0mpin_memory\u001b[0m\u001b[0;34m.\u001b[0m\u001b[0mpin_memory\u001b[0m\u001b[0;34m(\u001b[0m\u001b[0mdata\u001b[0m\u001b[0;34m)\u001b[0m\u001b[0;34m\u001b[0m\u001b[0;34m\u001b[0m\u001b[0m\n",
      "\u001b[0;32m/mnt/hielo/application/anaconda/envs/cv/lib/python3.8/site-packages/torch/utils/data/_utils/fetch.py\u001b[0m in \u001b[0;36mfetch\u001b[0;34m(self, possibly_batched_index)\u001b[0m\n\u001b[1;32m     42\u001b[0m     \u001b[0;32mdef\u001b[0m \u001b[0mfetch\u001b[0m\u001b[0;34m(\u001b[0m\u001b[0mself\u001b[0m\u001b[0;34m,\u001b[0m \u001b[0mpossibly_batched_index\u001b[0m\u001b[0;34m)\u001b[0m\u001b[0;34m:\u001b[0m\u001b[0;34m\u001b[0m\u001b[0;34m\u001b[0m\u001b[0m\n\u001b[1;32m     43\u001b[0m         \u001b[0;32mif\u001b[0m \u001b[0mself\u001b[0m\u001b[0;34m.\u001b[0m\u001b[0mauto_collation\u001b[0m\u001b[0;34m:\u001b[0m\u001b[0;34m\u001b[0m\u001b[0;34m\u001b[0m\u001b[0m\n\u001b[0;32m---> 44\u001b[0;31m             \u001b[0mdata\u001b[0m \u001b[0;34m=\u001b[0m \u001b[0;34m[\u001b[0m\u001b[0mself\u001b[0m\u001b[0;34m.\u001b[0m\u001b[0mdataset\u001b[0m\u001b[0;34m[\u001b[0m\u001b[0midx\u001b[0m\u001b[0;34m]\u001b[0m \u001b[0;32mfor\u001b[0m \u001b[0midx\u001b[0m \u001b[0;32min\u001b[0m \u001b[0mpossibly_batched_index\u001b[0m\u001b[0;34m]\u001b[0m\u001b[0;34m\u001b[0m\u001b[0;34m\u001b[0m\u001b[0m\n\u001b[0m\u001b[1;32m     45\u001b[0m         \u001b[0;32melse\u001b[0m\u001b[0;34m:\u001b[0m\u001b[0;34m\u001b[0m\u001b[0;34m\u001b[0m\u001b[0m\n\u001b[1;32m     46\u001b[0m             \u001b[0mdata\u001b[0m \u001b[0;34m=\u001b[0m \u001b[0mself\u001b[0m\u001b[0;34m.\u001b[0m\u001b[0mdataset\u001b[0m\u001b[0;34m[\u001b[0m\u001b[0mpossibly_batched_index\u001b[0m\u001b[0;34m]\u001b[0m\u001b[0;34m\u001b[0m\u001b[0;34m\u001b[0m\u001b[0m\n",
      "\u001b[0;32m/mnt/hielo/application/anaconda/envs/cv/lib/python3.8/site-packages/torch/utils/data/_utils/fetch.py\u001b[0m in \u001b[0;36m<listcomp>\u001b[0;34m(.0)\u001b[0m\n\u001b[1;32m     42\u001b[0m     \u001b[0;32mdef\u001b[0m \u001b[0mfetch\u001b[0m\u001b[0;34m(\u001b[0m\u001b[0mself\u001b[0m\u001b[0;34m,\u001b[0m \u001b[0mpossibly_batched_index\u001b[0m\u001b[0;34m)\u001b[0m\u001b[0;34m:\u001b[0m\u001b[0;34m\u001b[0m\u001b[0;34m\u001b[0m\u001b[0m\n\u001b[1;32m     43\u001b[0m         \u001b[0;32mif\u001b[0m \u001b[0mself\u001b[0m\u001b[0;34m.\u001b[0m\u001b[0mauto_collation\u001b[0m\u001b[0;34m:\u001b[0m\u001b[0;34m\u001b[0m\u001b[0;34m\u001b[0m\u001b[0m\n\u001b[0;32m---> 44\u001b[0;31m             \u001b[0mdata\u001b[0m \u001b[0;34m=\u001b[0m \u001b[0;34m[\u001b[0m\u001b[0mself\u001b[0m\u001b[0;34m.\u001b[0m\u001b[0mdataset\u001b[0m\u001b[0;34m[\u001b[0m\u001b[0midx\u001b[0m\u001b[0;34m]\u001b[0m \u001b[0;32mfor\u001b[0m \u001b[0midx\u001b[0m \u001b[0;32min\u001b[0m \u001b[0mpossibly_batched_index\u001b[0m\u001b[0;34m]\u001b[0m\u001b[0;34m\u001b[0m\u001b[0;34m\u001b[0m\u001b[0m\n\u001b[0m\u001b[1;32m     45\u001b[0m         \u001b[0;32melse\u001b[0m\u001b[0;34m:\u001b[0m\u001b[0;34m\u001b[0m\u001b[0;34m\u001b[0m\u001b[0m\n\u001b[1;32m     46\u001b[0m             \u001b[0mdata\u001b[0m \u001b[0;34m=\u001b[0m \u001b[0mself\u001b[0m\u001b[0;34m.\u001b[0m\u001b[0mdataset\u001b[0m\u001b[0;34m[\u001b[0m\u001b[0mpossibly_batched_index\u001b[0m\u001b[0;34m]\u001b[0m\u001b[0;34m\u001b[0m\u001b[0;34m\u001b[0m\u001b[0m\n",
      "\u001b[0;32m/mnt/hielo/projects/pesquisa/mestrado/20202-computacao-natural/projeto/src/dataset/pose_sequence.py\u001b[0m in \u001b[0;36m__getitem__\u001b[0;34m(self, idx)\u001b[0m\n\u001b[1;32m     24\u001b[0m \u001b[0;34m\u001b[0m\u001b[0m\n\u001b[1;32m     25\u001b[0m         \u001b[0;32mif\u001b[0m \u001b[0mself\u001b[0m\u001b[0;34m.\u001b[0m\u001b[0mtransform\u001b[0m\u001b[0;34m:\u001b[0m\u001b[0;34m\u001b[0m\u001b[0;34m\u001b[0m\u001b[0m\n\u001b[0;32m---> 26\u001b[0;31m             \u001b[0maction_sequence\u001b[0m \u001b[0;34m=\u001b[0m \u001b[0mself\u001b[0m\u001b[0;34m.\u001b[0m\u001b[0mtransform\u001b[0m\u001b[0;34m(\u001b[0m\u001b[0maction_sequence\u001b[0m\u001b[0;34m)\u001b[0m\u001b[0;34m\u001b[0m\u001b[0;34m\u001b[0m\u001b[0m\n\u001b[0m\u001b[1;32m     27\u001b[0m         \u001b[0;32mreturn\u001b[0m \u001b[0maction_sequence\u001b[0m\u001b[0;34m\u001b[0m\u001b[0;34m\u001b[0m\u001b[0m\n\u001b[1;32m     28\u001b[0m \u001b[0;34m\u001b[0m\u001b[0m\n",
      "\u001b[0;32m/mnt/hielo/application/anaconda/envs/cv/lib/python3.8/site-packages/torchvision/transforms/transforms.py\u001b[0m in \u001b[0;36m__call__\u001b[0;34m(self, img)\u001b[0m\n\u001b[1;32m     59\u001b[0m     \u001b[0;32mdef\u001b[0m \u001b[0m__call__\u001b[0m\u001b[0;34m(\u001b[0m\u001b[0mself\u001b[0m\u001b[0;34m,\u001b[0m \u001b[0mimg\u001b[0m\u001b[0;34m)\u001b[0m\u001b[0;34m:\u001b[0m\u001b[0;34m\u001b[0m\u001b[0;34m\u001b[0m\u001b[0m\n\u001b[1;32m     60\u001b[0m         \u001b[0;32mfor\u001b[0m \u001b[0mt\u001b[0m \u001b[0;32min\u001b[0m \u001b[0mself\u001b[0m\u001b[0;34m.\u001b[0m\u001b[0mtransforms\u001b[0m\u001b[0;34m:\u001b[0m\u001b[0;34m\u001b[0m\u001b[0;34m\u001b[0m\u001b[0m\n\u001b[0;32m---> 61\u001b[0;31m             \u001b[0mimg\u001b[0m \u001b[0;34m=\u001b[0m \u001b[0mt\u001b[0m\u001b[0;34m(\u001b[0m\u001b[0mimg\u001b[0m\u001b[0;34m)\u001b[0m\u001b[0;34m\u001b[0m\u001b[0;34m\u001b[0m\u001b[0m\n\u001b[0m\u001b[1;32m     62\u001b[0m         \u001b[0;32mreturn\u001b[0m \u001b[0mimg\u001b[0m\u001b[0;34m\u001b[0m\u001b[0;34m\u001b[0m\u001b[0m\n\u001b[1;32m     63\u001b[0m \u001b[0;34m\u001b[0m\u001b[0m\n",
      "\u001b[0;32m/mnt/hielo/projects/pesquisa/mestrado/20202-computacao-natural/projeto/src/dataset/transform.py\u001b[0m in \u001b[0;36m__call__\u001b[0;34m(self, action_sequence)\u001b[0m\n\u001b[1;32m     18\u001b[0m         \u001b[0msequence_labels\u001b[0m \u001b[0;34m=\u001b[0m \u001b[0mnp\u001b[0m\u001b[0;34m.\u001b[0m\u001b[0mones\u001b[0m\u001b[0;34m(\u001b[0m\u001b[0;34m(\u001b[0m\u001b[0mframes\u001b[0m\u001b[0;34m,\u001b[0m \u001b[0mnodes\u001b[0m\u001b[0;34m)\u001b[0m\u001b[0;34m)\u001b[0m\u001b[0;34m\u001b[0m\u001b[0;34m\u001b[0m\u001b[0m\n\u001b[1;32m     19\u001b[0m         \u001b[0;32mfor\u001b[0m \u001b[0mframe_idx\u001b[0m \u001b[0;32min\u001b[0m \u001b[0mrange\u001b[0m\u001b[0;34m(\u001b[0m\u001b[0mframes\u001b[0m\u001b[0;34m)\u001b[0m\u001b[0;34m:\u001b[0m\u001b[0;34m\u001b[0m\u001b[0;34m\u001b[0m\u001b[0m\n\u001b[0;32m---> 20\u001b[0;31m             \u001b[0msequence_labels\u001b[0m\u001b[0;34m[\u001b[0m\u001b[0mframe_idx\u001b[0m\u001b[0;34m,\u001b[0m \u001b[0;34m:\u001b[0m\u001b[0;34m]\u001b[0m \u001b[0;34m=\u001b[0m \u001b[0mnp\u001b[0m\u001b[0;34m.\u001b[0m\u001b[0mones\u001b[0m\u001b[0;34m(\u001b[0m\u001b[0;34m(\u001b[0m\u001b[0;36m1\u001b[0m\u001b[0;34m,\u001b[0m \u001b[0mnodes\u001b[0m\u001b[0;34m)\u001b[0m\u001b[0;34m)\u001b[0m \u001b[0;34m*\u001b[0m \u001b[0mself\u001b[0m\u001b[0;34m.\u001b[0m\u001b[0mlabel_idx\u001b[0m\u001b[0;34m[\u001b[0m\u001b[0maction_sequence\u001b[0m\u001b[0;34m.\u001b[0m\u001b[0mlabels\u001b[0m\u001b[0;34m[\u001b[0m\u001b[0mframe_idx\u001b[0m\u001b[0;34m]\u001b[0m\u001b[0;34m]\u001b[0m\u001b[0;34m\u001b[0m\u001b[0;34m\u001b[0m\u001b[0m\n\u001b[0m\u001b[1;32m     21\u001b[0m \u001b[0;34m\u001b[0m\u001b[0m\n\u001b[1;32m     22\u001b[0m         \u001b[0;32mif\u001b[0m \u001b[0mself\u001b[0m\u001b[0;34m.\u001b[0m\u001b[0mmax_lenght\u001b[0m\u001b[0;34m:\u001b[0m\u001b[0;34m\u001b[0m\u001b[0;34m\u001b[0m\u001b[0m\n",
      "\u001b[0;31mKeyboardInterrupt\u001b[0m: "
     ]
    }
   ],
   "source": [
    "from tqdm import tqdm\n",
    "import pdb\n",
    "import torch\n",
    "import torch.nn as nn\n",
    "from IPython.display import clear_output, display\n",
    "from sklearn.model_selection import KFold\n",
    "\n",
    "kf = KFold(n_splits=5, shuffle=True, random_state=42)\n",
    "kf.get_n_splits(action_sequences)\n",
    "epochs = 50\n",
    "device = torch.device('cuda' if torch.cuda.is_available() else 'cpu')\n",
    "print(device)\n",
    "k=0\n",
    "loss_history_train = []\n",
    "acc_history_val = []\n",
    "epoch_history = []\n",
    "model_history = []\n",
    "val_idx_history = []\n",
    "sources = list_values_by_field_name(action_sequences, 'source')\n",
    "\n",
    "for train_idxs, val_idxs in kf.split(action_sequences):\n",
    "    \n",
    "    train_sources = [sources[i] for i in train_idxs]\n",
    "    validation_sources = [sources[i] for i in val_idxs]\n",
    "    train_sequences = filter_by_metadata(augmented_action_sequences, 'source', train_sources)\n",
    "    validation_sequences = filter_by_metadata(augmented_action_sequences, 'source', validation_sources)\n",
    "\n",
    "    train_dataset = PoseSequenceDataset(train_sequences, transform=transform)\n",
    "    validation_dataset = PoseSequenceDataset(validation_sequences, transform=transform)\n",
    "\n",
    "    train_dataloader = DataLoader(train_dataset, batch_size=batch_size, shuffle=True)\n",
    "    validation_dataloader = DataLoader(validation_dataset, batch_size=batch_size, shuffle=True)\n",
    "    \n",
    "    model = Net().to(device)\n",
    "\n",
    "    A = torch.from_numpy(adjacency).to(device, dtype=torch.float)\n",
    "    optimizer = torch.optim.Adam(model.parameters(), lr=0.002)\n",
    "    model.train()\n",
    "    loss_history_train.append([])\n",
    "    acc_history_val.append([])\n",
    "    epoch_history.append([])\n",
    "    val_idx_history.append(val_idxs)\n",
    "    for epoch in range(epochs):\n",
    "        print('Epoca {}'.format(epoch))\n",
    "\n",
    "        loss_accum = 0\n",
    "        for samples in train_dataloader:\n",
    "            data = samples['frames'].to(device, dtype=torch.float)\n",
    "            labels = samples['labels'].to(device, dtype=torch.long)\n",
    "\n",
    "            optimizer.zero_grad()\n",
    "\n",
    "            out = model(data, A)\n",
    "            loss = F.cross_entropy(out, labels)\n",
    "            loss.backward()\n",
    "            optimizer.step()\n",
    "            total_loss = loss.item()\n",
    "            loss_accum = loss_accum + total_loss\n",
    "\n",
    "\n",
    "        if (epoch + 1) % 5 == 0:\n",
    "            model.eval()\n",
    "            num_samples = 0\n",
    "            accum = 0\n",
    "            for samples in validation_dataloader:\n",
    "                data = samples['frames'].to(device, dtype=torch.float)\n",
    "                labels = samples['labels'].to(device, dtype=torch.long)\n",
    "                out = model(data, A)\n",
    "\n",
    "                accum = accum + get_accuracy(out, labels) * samples['frames'].shape[0]\n",
    "                num_samples = num_samples + samples['frames'].shape[0]\n",
    "\n",
    "            validation_accuracy = accum/num_samples\n",
    "\n",
    "            acc_history_val[k].append(validation_accuracy)\n",
    "            loss_history_train[k].append(loss_accum) \n",
    "            epoch_history[k].append(epoch)\n",
    "            \n",
    "            clear_output(wait=True)\n",
    "            model.train()\n",
    "            \n",
    "            for i in range(k):\n",
    "                final_loss = loss_history_train[i][-1]\n",
    "                final_val_acc = acc_history_val[i][-1] \n",
    "                print('[Resultado iteração {}] - Loss: {:.4f} - Val Acc: {:.4f}'.format(i, final_loss, final_val_acc))\n",
    "            \n",
    "\n",
    "            print('[{}/{}] Loss: {:.4f} - Val Acc: {:.4f}'.format(epoch, epochs, loss_accum, validation_accuracy))\n",
    "            fig, (ax1, ax2) = plt.subplots(1, 2, figsize=(15,5))\n",
    "            for i in range(k+1):\n",
    "                ax1.plot(epoch_history[i], loss_history_train[i], 'b')\n",
    "            ax1.grid()\n",
    "            for i in range(k+1):\n",
    "                ax2.plot(epoch_history[i], acc_history_val[i], 'r')\n",
    "            ax2.grid()\n",
    "            plt.show()\n",
    "    k = k+1\n",
    "    model.eval()\n",
    "    model_history.append(model)"
   ]
  },
  {
   "cell_type": "code",
   "execution_count": 18,
   "metadata": {},
   "outputs": [],
   "source": [
    "label_colors = {\n",
    "    0: matplotlib.colors.to_rgb('#c62bc6'),\n",
    "    1: matplotlib.colors.to_rgb('#49bcad'),\n",
    "    2: matplotlib.colors.to_rgb('#e1ff00'),\n",
    "    3: matplotlib.colors.to_rgb('#00bbff'),\n",
    "    4: matplotlib.colors.to_rgb('#ffd800'),\n",
    "    5: matplotlib.colors.to_rgb('#00ff11'),\n",
    "    6: matplotlib.colors.to_rgb('#001dff'),\n",
    "    7: matplotlib.colors.to_rgb('#fff600'),\n",
    "    8: matplotlib.colors.to_rgb('#d65968'),\n",
    "}"
   ]
  },
  {
   "cell_type": "code",
   "execution_count": 19,
   "metadata": {},
   "outputs": [],
   "source": [
    "def create_segmentation_picture(values, nodes_per_frame=16):\n",
    "    flatten_values = values.flatten()\n",
    "    picture = np.array([ label_colors[i] for i in flatten_values])\n",
    "    picture = picture.reshape((-1,nodes_per_frame, 3))\n",
    "    picture = np.transpose(picture, (1,0,2))\n",
    "    return picture"
   ]
  },
  {
   "cell_type": "code",
   "execution_count": 20,
   "metadata": {},
   "outputs": [],
   "source": [
    "def define_label_by_frame(values, nodes_per_frame=16):\n",
    "    flatten_values = values.flatten()\n",
    "    frame_wise_mode = stats.mode(flatten_values.reshape((-1, nodes_per_frame)), axis=1)\n",
    "    frame_pred = frame_wise_mode[0].flatten()\n",
    "    frame_pred = np.array([ [ i for j in range(16)] for i in frame_pred ])\n",
    "    return frame_pred"
   ]
  },
  {
   "cell_type": "code",
   "execution_count": 21,
   "metadata": {},
   "outputs": [],
   "source": [
    "def print_legend():\n",
    "    fig=plt.figure(figsize=(20, 4))\n",
    "    for i in idx_label.keys():\n",
    "        fig.add_subplot(1, 7, i+1)\n",
    "        plt.imshow(create_segmentation_picture(np.ones((16,16)) * i))\n",
    "        plt.axis('off')\n",
    "        plt.title(idx_label[i])\n",
    "    plt.show()"
   ]
  },
  {
   "cell_type": "code",
   "execution_count": 23,
   "metadata": {},
   "outputs": [
    {
     "name": "stdout",
     "output_type": "stream",
     "text": [
      "{'Left Punch': 0, 'Right Punch': 1, 'Back Kick': 2, 'Right Kick': 3, 'Left Kick To The Head': 4, 'Right Kick To The Head': 5, 'Left Kick': 6}\n"
     ]
    },
    {
     "data": {
      "image/png": "[encoded data removed]",
      "text/plain": [
       "<Figure size 1440x288 with 7 Axes>"
      ]
     },
     "metadata": {
      "needs_background": "light"
     },
     "output_type": "display_data"
    },
    {
     "data": {
      "image/png": "[encoded data removed]",
      "text/plain": [
       "<Figure size 1440x288 with 3 Axes>"
      ]
     },
     "metadata": {
      "needs_background": "light"
     },
     "output_type": "display_data"
    },
    {
     "data": {
      "image/png": "[encoded data removed]",
      "text/plain": [
       "<Figure size 1440x288 with 3 Axes>"
      ]
     },
     "metadata": {
      "needs_background": "light"
     },
     "output_type": "display_data"
    },
    {
     "data": {
      "image/png": "[encoded data removed]",
      "text/plain": [
       "<Figure size 1440x288 with 3 Axes>"
      ]
     },
     "metadata": {
      "needs_background": "light"
     },
     "output_type": "display_data"
    },
    {
     "data": {
      "image/png": "[encoded data removed]",
      "text/plain": [
       "<Figure size 1440x288 with 3 Axes>"
      ]
     },
     "metadata": {
      "needs_background": "light"
     },
     "output_type": "display_data"
    },
    {
     "data": {
      "image/png": "[encoded data removed]",
      "text/plain": [
       "<Figure size 1440x288 with 3 Axes>"
      ]
     },
     "metadata": {
      "needs_background": "light"
     },
     "output_type": "display_data"
    }
   ],
   "source": [
    "sample_idx = 30\n",
    "print(label_idx)\n",
    "print_legend()\n",
    "for fold in range(len(val_idx_history)):\n",
    "\n",
    "    validation_sources = [sources[i] for i in val_idx_history[fold]]\n",
    "    validation_sequences = filter_by_metadata(augmented_action_sequences, 'source', validation_sources)\n",
    "    validation_dataset = PoseSequenceDataset(validation_sequences, transform=transform)\n",
    "    validation_dataloader = DataLoader(validation_dataset, batch_size=batch_size, shuffle=True)\n",
    "\n",
    "    for samples in validation_dataloader:\n",
    "        data = samples['frames'].to(device, dtype=torch.float)\n",
    "        labels = samples['labels'].to(device, dtype=torch.long)\n",
    "        preds = model_history[fold](data, A)\n",
    "        preds = torch.argmax(preds, dim=1)\n",
    "        break;\n",
    "    sample = data[sample_idx].detach().cpu().numpy();\n",
    "    pred = preds[sample_idx].detach().cpu().numpy();\n",
    "    label = labels[sample_idx].detach().cpu().numpy();\n",
    "\n",
    "    labels_picture = create_segmentation_picture(label)\n",
    "    preds_by_node_picture = create_segmentation_picture(pred)\n",
    "    preds_by_frame_picture = create_segmentation_picture(define_label_by_frame(pred))\n",
    "    \n",
    "    fig=plt.figure(figsize=(20, 4))\n",
    "    fig.add_subplot(3, 1, 1)\n",
    "    plt.imshow(labels_picture)\n",
    "    fig.add_subplot(3, 1, 2)\n",
    "    plt.imshow(preds_by_node_picture)\n",
    "    fig.add_subplot(3, 1, 3)\n",
    "    plt.imshow(preds_by_frame_picture)\n",
    "\n",
    "    plt.show()"
   ]
  },
  {
   "cell_type": "code",
   "execution_count": null,
   "metadata": {},
   "outputs": [],
   "source": []
  }
 ],
 "metadata": {
  "kernelspec": {
   "display_name": "Python 3",
   "language": "python",
   "name": "python3"
  },
  "language_info": {
   "codemirror_mode": {
    "name": "ipython",
    "version": 3
   },
   "file_extension": ".py",
   "mimetype": "text/x-python",
   "name": "python",
   "nbconvert_exporter": "python",
   "pygments_lexer": "ipython3",
   "version": "3.8.5"
  }
 },
 "nbformat": 4,
 "nbformat_minor": 2
}
